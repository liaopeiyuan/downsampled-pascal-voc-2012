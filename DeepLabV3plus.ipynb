{
 "cells": [
  {
   "cell_type": "markdown",
   "metadata": {
    "_uuid": "fa525d982fdb7e518de47cd8ec52f6ee868d312b"
   },
   "source": [
    "## Update\n",
    "-Add Batch Normalization layer after each conv\n",
    "-Add shuffle=True in model.fit() method for a better BN effect (so that we have different batch to normalize in each epoch during the training)\n",
    "-You can use crf method (https://www.kaggle.com/meaninglesslives/apply-crf) to improve the result \n",
    "## Changelog\n",
    "- Changed uncov to uconv, but removed the dropout in the last layer\n",
    "- Corrected sanity check of predicted validation data (changed from ids_train to ids_valid)\n",
    "- Used correct mask (from original train_df) for threshold tuning (inserted y_valid_ori)\n",
    "- Added DICE loss functions"
   ]
  },
  {
   "cell_type": "code",
   "execution_count": null,
   "metadata": {
    "_uuid": "77e05df3218e009eafa91b1afffbb5cdd6535a41"
   },
   "outputs": [],
   "source": []
  },
  {
   "cell_type": "markdown",
   "metadata": {
    "_uuid": "ada861a85e9549dca27667692da408c5fdccbaa5"
   },
   "source": [
    "# About\n",
    "Since I am new to learning from image segmentation and kaggle in general I want to share my noteook.\n",
    "I saw it is similar to others as it uses the U-net approach. I want to share it anyway because:\n",
    "\n",
    "- As said, the field is new to me so I am open to suggestions.\n",
    "- It visualizes some of the steps, e.g. scaling, to learn if the methods do what I expect which might be useful to others (I call them sanity checks).\n",
    "- Added stratification by the amount of salt contained in the image.\n",
    "- Added augmentation by flipping the images along the y axes (thanks to the forum for clarification).\n",
    "- Added dropout to the model which seems to improve performance."
   ]
  },
  {
   "cell_type": "code",
   "execution_count": 41,
   "metadata": {
    "_cell_guid": "b1076dfc-b9ad-4769-8c92-a6c4dae69d19",
    "_uuid": "8f2839f25d086af736a60e9eeb907d3b93b6e0e5",
    "scrolled": true
   },
   "outputs": [],
   "source": [
    "import numpy as np\n",
    "import pandas as pd\n",
    "\n",
    "from random import randint\n",
    "\n",
    "import matplotlib.pyplot as plt\n",
    "plt.style.use('seaborn-white')\n",
    "import seaborn as sns\n",
    "sns.set_style(\"white\")\n",
    "\n",
    "from sklearn.model_selection import train_test_split\n",
    "\n",
    "from skimage.transform import resize\n",
    "\n",
    "from keras.preprocessing.image import load_img\n",
    "from keras import Model\n",
    "from keras.callbacks import EarlyStopping, ModelCheckpoint, ReduceLROnPlateau\n",
    "from keras.models import load_model\n",
    "from keras.optimizers import Adam\n",
    "from keras.utils.vis_utils import plot_model\n",
    "from keras.preprocessing.image import ImageDataGenerator\n",
    "from keras.layers import Input, Conv2D, Conv2DTranspose, MaxPooling2D, concatenate, Dropout,BatchNormalization\n",
    "from keras.layers import Conv2D, Concatenate, MaxPooling2D\n",
    "from keras.layers import UpSampling2D, Dropout, BatchNormalization\n",
    "from tqdm import tqdm_notebook\n",
    "from keras.losses import binary_crossentropy\n",
    "from keras import backend as K\n",
    "import tensorflow as tf\n",
    "import sys\n",
    "sys.path.append('../keras-deeplab-v3-plus')\n",
    "from model import Deeplabv3\n",
    "import glob"
   ]
  },
  {
   "cell_type": "markdown",
   "metadata": {
    "_uuid": "962c2c6775b5fcf605df8e7c59cbcabe6ba9ceaa"
   },
   "source": [
    "# Params and helpers"
   ]
  },
  {
   "cell_type": "code",
   "execution_count": 2,
   "metadata": {
    "_uuid": "e54e151245d665e42bb95d9cf2e1a33cb9440e48"
   },
   "outputs": [],
   "source": [
    "img_size_ori = 101\n",
    "img_size_target = 101\n",
    "\n",
    "def upsample(img):\n",
    "    if img_size_ori == img_size_target:\n",
    "        return img\n",
    "    return resize(img, (img_size_target, img_size_target), mode='constant', preserve_range=True)\n",
    "    #res = np.zeros((img_size_target, img_size_target), dtype=img.dtype)\n",
    "    #res[:img_size_ori, :img_size_ori] = img\n",
    "    #return res\n",
    "    \n",
    "def downsample(img):\n",
    "    return resize(img, (101, 101,3), mode='constant', preserve_range=True)\n",
    "    #return img[:img_size_ori, :img_size_ori]"
   ]
  },
  {
   "cell_type": "code",
   "execution_count": 3,
   "metadata": {
    "_uuid": "a0aa7bb3e1c4bf4cf5a08e62ca6f3ee0d73e575e"
   },
   "outputs": [],
   "source": [
    "def dice_coef(y_true, y_pred):\n",
    "    y_true_f = K.flatten(y_true)\n",
    "    y_pred = K.cast(y_pred, 'float32')\n",
    "    y_pred_f = K.cast(K.greater(K.flatten(y_pred), 0.5), 'float32')\n",
    "    intersection = y_true_f * y_pred_f\n",
    "    score = 2. * K.sum(intersection) / (K.sum(y_true_f) + K.sum(y_pred_f))\n",
    "    return score\n",
    "\n",
    "def dice_loss(y_true, y_pred):\n",
    "    smooth = 1.\n",
    "    y_true_f = K.flatten(y_true)\n",
    "    y_pred_f = K.flatten(y_pred)\n",
    "    intersection = y_true_f * y_pred_f\n",
    "    score = (2. * K.sum(intersection) + smooth) / (K.sum(y_true_f) + K.sum(y_pred_f) + smooth)\n",
    "    return 1. - score\n",
    "\n",
    "def bce_dice_loss(y_true, y_pred):\n",
    "    return binary_crossentropy(y_true, y_pred) + dice_loss(y_true, y_pred)\n",
    "\n",
    "def bce_logdice_loss(y_true, y_pred):\n",
    "    return binary_crossentropy(y_true, y_pred) - K.log(1. - dice_loss(y_true, y_pred))\n",
    "\n",
    "def weighted_bce_loss(y_true, y_pred, weight):\n",
    "    epsilon = 1e-7\n",
    "    y_pred = K.clip(y_pred, epsilon, 1. - epsilon)\n",
    "    logit_y_pred = K.log(y_pred / (1. - y_pred))\n",
    "    loss = weight * (logit_y_pred * (1. - y_true) + \n",
    "                     K.log(1. + K.exp(-K.abs(logit_y_pred))) + K.maximum(-logit_y_pred, 0.))\n",
    "    return K.sum(loss) / K.sum(weight)\n",
    "\n",
    "def weighted_dice_loss(y_true, y_pred, weight):\n",
    "    smooth = 1.\n",
    "    w, m1, m2 = weight, y_true, y_pred\n",
    "    intersection = (m1 * m2)\n",
    "    score = (2. * K.sum(w * intersection) + smooth) / (K.sum(w * m1) + K.sum(w * m2) + smooth)\n",
    "    loss = 1. - K.sum(score)\n",
    "    return loss\n",
    "\n",
    "def weighted_bce_dice_loss(y_true, y_pred):\n",
    "    y_true = K.cast(y_true, 'float32')\n",
    "    y_pred = K.cast(y_pred, 'float32')\n",
    "    # if we want to get same size of output, kernel size must be odd\n",
    "    averaged_mask = K.pool2d(\n",
    "            y_true, pool_size=(50, 50), strides=(1, 1), padding='same', pool_mode='avg')\n",
    "    weight = K.ones_like(averaged_mask)\n",
    "    w0 = K.sum(weight)\n",
    "    weight = 5. * K.exp(-5. * K.abs(averaged_mask - 0.5))\n",
    "    w1 = K.sum(weight)\n",
    "    weight *= (w0 / w1)\n",
    "    loss = weighted_bce_loss(y_true, y_pred, weight) + dice_loss(y_true, y_pred)\n",
    "    return loss\n",
    "\n",
    "def mean_iou(y_true, y_pred):\n",
    "    prec = []\n",
    "    for t in np.arange(0.5, 1.0, 0.05):\n",
    "        y_pred_ = tf.to_int32(y_pred > t)\n",
    "        score, up_opt = tf.metrics.mean_iou(y_true, y_pred_, 2)\n",
    "        K.get_session().run(tf.local_variables_initializer())\n",
    "        with tf.control_dependencies([up_opt]):\n",
    "            score = tf.identity(score)\n",
    "        prec.append(score)\n",
    "    return K.mean(K.stack(prec), axis=0)\n"
   ]
  },
  {
   "cell_type": "markdown",
   "metadata": {
    "_uuid": "530c358f2868a444e8233936996463a66c2cc4f3"
   },
   "source": [
    "# Loading of training/testing ids and depths\n",
    "Reading the training data and the depths, store them in a DataFrame. Also create a test DataFrame with entries from depth not in train."
   ]
  },
  {
   "cell_type": "code",
   "execution_count": 4,
   "metadata": {
    "_cell_guid": "79c7e3d0-c299-4dcb-8224-4455121ee9b0",
    "_uuid": "d629ff2d2480ee46fbb7e2d37f6b5fab8052498a"
   },
   "outputs": [
    {
     "data": {
      "text/plain": [
       "'2009_000080'"
      ]
     },
     "execution_count": 4,
     "metadata": {},
     "output_type": "execute_result"
    }
   ],
   "source": [
    "ROOT = \"/home/alexanderliao/data/Kaggle/datasets/pascal-voc-2012/VOC2012\"\n",
    "IMG_LIST = glob.glob(ROOT+'/SegmentationClass/*.png')\n",
    "for i in range(len(IMG_LIST)):\n",
    "    IMG_LIST[i]=IMG_LIST[i][83:len(IMG_LIST[i])-4]\n",
    "    \n",
    "from PIL import Image\n",
    "\n",
    "def make_square(im, fill_color=(0, 0, 0, 0)):\n",
    "    x, y = im.size\n",
    "    size = max(x, y)\n",
    "    new_im = Image.new('RGB', (size, size), fill_color)\n",
    "    new_im.paste(im, ( int((size-x)/2), int((size-y))))\n",
    "    return new_im\n",
    "IMG_LIST[1]"
   ]
  },
  {
   "cell_type": "code",
   "execution_count": 5,
   "metadata": {
    "scrolled": false
   },
   "outputs": [
    {
     "name": "stderr",
     "output_type": "stream",
     "text": [
      "Clipping input data to the valid range for imshow with RGB data ([0..1] for floats or [0..255] for integers).\n"
     ]
    },
    {
     "data": {
      "text/plain": [
       "'\\nfor i in range(500):\\n    if not(  ( a[i][300]==np.array([0,0,0]) ).any() ):\\n        print(a[i][300])\\n        print(i)\\n        break\\n'"
      ]
     },
     "execution_count": 5,
     "metadata": {},
     "output_type": "execute_result"
    },
    {
     "data": {
      "image/png": "[encoded data removed]",
      "text/plain": [
       "<Figure size 432x288 with 1 Axes>"
      ]
     },
     "metadata": {},
     "output_type": "display_data"
    }
   ],
   "source": [
    "tvmonitor = np.array([0,64,-128])\n",
    "ambiguous=np.array([-32,-32,-64])\n",
    "train=np.array([-128,-64,0])\n",
    "aeroplane=np.array([-128,0,0])\n",
    "boat=np.array([  0   ,0,-128])\n",
    "chair=np.array([-64 ,0 ,0])\n",
    "dog=np.array([  64  ,0,-128])\n",
    "bird=np.array([-128,-128,0])\n",
    "diningtable=np.array([-64,-128 ,0])\n",
    "bottle=np.array([-128   ,0,-128])\n",
    "bicycle=np.array([   0,-128,0])\n",
    "person=np.array([ -64 -128 -128])\n",
    "motorbike=np.array([  64,-128,-128])\n",
    "sheep=np.array([-128,64 ,0])\n",
    "horse=np.array([ -64,0,-128])\n",
    "cat=np.array([64,0 ,0])\n",
    "bus=np.array([   0,-128,-128])\n",
    "cow = np.array([  64,-128,0])\n",
    "pottedplant=np.array([[ 0,64,0]])\n",
    "sofa=np.array([  0,-64,  0])\n",
    "background=np.array([0,0,0])\n",
    "car=np.array([-128,-128,-128])\n",
    "\n",
    "import matplotlib.pyplot as plt\n",
    "import matplotlib.image as mpimg\n",
    "a=np.array(downsample(np.array(make_square(Image.open(ROOT+\"/SegmentationClass/{}.png\".format(\"2007_003143\"))),dtype='int8')),dtype='int8')\n",
    "imgplot = plt.imshow(a)\n",
    "k=0\n",
    "#for i in range(101):\n",
    "#    print(a[70][i])\n",
    "\n",
    "\n",
    "\n",
    "\"\"\"\n",
    "for i in range(500):\n",
    "    if not(  ( a[i][300]==np.array([0,0,0]) ).any() ):\n",
    "        print(a[i][300])\n",
    "        print(i)\n",
    "        break\n",
    "\"\"\""
   ]
  },
  {
   "cell_type": "markdown",
   "metadata": {
    "_uuid": "24d7f3d982bfa582b222f012129acdda55282b6d"
   },
   "source": [
    "# Read images and masks\n",
    "Load the images and masks into the DataFrame and divide the pixel values by 255."
   ]
  },
  {
   "cell_type": "code",
   "execution_count": 6,
   "metadata": {
    "_uuid": "b18c1f50cefd7504eae7e7b9605be3814c7cad6d"
   },
   "outputs": [
    {
     "data": {
      "application/vnd.jupyter.widget-view+json": {
       "model_id": "fcd811ee1922424b9d7a6ae2801e9592",
       "version_major": 2,
       "version_minor": 0
      },
      "text/plain": [
       "HBox(children=(IntProgress(value=0, max=2913), HTML(value='')))"
      ]
     },
     "metadata": {},
     "output_type": "display_data"
    },
    {
     "name": "stdout",
     "output_type": "stream",
     "text": [
      "\n"
     ]
    }
   ],
   "source": [
    "train_images = [downsample(np.array(make_square(Image.open(ROOT+\"/JPEGImages/{}.jpg\".format(idx))))) / 255 for idx in tqdm_notebook(IMG_LIST)]\n",
    "#train_df[\"images\"] = [np.array(load_img(\"../input/train/images/{}.png\".format(idx), grayscale=True)) / 255 for idx in tqdm_notebook(train_df.index)]"
   ]
  },
  {
   "cell_type": "code",
   "execution_count": null,
   "metadata": {
    "_uuid": "86620c6a070571895f4f36ec050a25803915ed74"
   },
   "outputs": [],
   "source": [
    "train_masks = [np.array(downsample(np.array(make_square(Image.open(ROOT+\"/SegmentationClass/{}.png\".format(idx))),dtype='int8')),dtype='int8') for idx in tqdm_notebook(IMG_LIST)]\n",
    "#train_df[\"masks\"] = [np.array(load_img(\"../input/train/masks/{}.png\".format(idx), grayscale=True)) / 255 for idx in tqdm_notebook(train_df.index)]"
   ]
  },
  {
   "cell_type": "code",
   "execution_count": null,
   "metadata": {},
   "outputs": [],
   "source": [
    "from tqdm import tqdm\n",
    "int_masks = []\n",
    "for i in tqdm(range(len(train_masks))):\n",
    "    image=train_masks[i]\n",
    "    new_im=np.zeros((101,101,1))\n",
    "    for i in range(101):\n",
    "        for j in range(101):\n",
    "            if (image[i,j,:] == aeroplane).all():\n",
    "                new_im[i,j,:]=1\n",
    "            elif (image[i,j,:] == bicycle).all():\n",
    "                new_im[i,j,:]=2\n",
    "            elif (image[i,j,:] == bird).all():\n",
    "                new_im[i,j,:]=3\n",
    "            elif (image[i,j,:] == boat).all():\n",
    "                new_im[i,j,:]=4\n",
    "            elif (image[i,j,:] == bottle).all():\n",
    "                new_im[i,j,:]=5\n",
    "            elif (image[i,j,:] == bus).all():\n",
    "                new_im[i,j,:]=6\n",
    "            elif (image[i,j,:] == car).all():\n",
    "                new_im[i,j,:]=7\n",
    "            elif (image[i,j,:] == cat).all():\n",
    "                new_im[i,j,:]=8\n",
    "            elif (image[i,j,:] == chair).all():\n",
    "                new_im[i,j,:]=9\n",
    "            elif (image[i,j,:] == cow).all():\n",
    "                new_im[i,j,:]=10\n",
    "            elif (image[i,j,:] == diningtable).all():\n",
    "                new_im[i,j,:]=11\n",
    "            elif (image[i,j,:] == dog).all():\n",
    "                new_im[i,j,:]=12\n",
    "            elif (image[i,j,:] == horse).all():\n",
    "                new_im[i,j,:]=13\n",
    "            elif (image[i,j,:] == motorbike).all():\n",
    "                new_im[i,j,:]=14\n",
    "            elif (image[i,j,:] == person).all():\n",
    "                new_im[i,j,:]=15\n",
    "            elif (image[i,j,:] == pottedplant).all():\n",
    "                new_im[i,j,:]=16\n",
    "            elif (image[i,j,:] == sheep).all():\n",
    "                new_im[i,j,:]=17\n",
    "            elif (image[i,j,:] == sofa).all():\n",
    "                new_im[i,j,:]=18\n",
    "            elif (image[i,j,:] == train).all():\n",
    "                new_im[i,j,:]=19\n",
    "            elif (image[i,j,:] == tvmonitor).all():\n",
    "                new_im[i,j,:]=20\n",
    "            elif (image[i,j,:] == ambiguous).all():\n",
    "                new_im[i,j,:]=21\n",
    "    int_masks.append(new_im)\n",
    "                \n",
    "                \n",
    "                \n",
    "            "
   ]
  },
  {
   "cell_type": "code",
   "execution_count": 7,
   "metadata": {},
   "outputs": [],
   "source": [
    "import pickle\n",
    "int_masks = pickle.load( open( \"PASCAL_VOC2012_int_mask.p\", \"rb\" ) )\n",
    "#pickle.dump( int_masks, open( \"PASCAL_VOC2012_int_mask.p\", \"wb\" ) )"
   ]
  },
  {
   "cell_type": "code",
   "execution_count": 8,
   "metadata": {},
   "outputs": [
    {
     "ename": "NameError",
     "evalue": "name 'train_masks' is not defined",
     "output_type": "error",
     "traceback": [
      "\u001b[0;31m---------------------------------------------------------------------------\u001b[0m",
      "\u001b[0;31mNameError\u001b[0m                                 Traceback (most recent call last)",
      "\u001b[0;32m<ipython-input-8-f72123344abf>\u001b[0m in \u001b[0;36m<module>\u001b[0;34m()\u001b[0m\n\u001b[0;32m----> 1\u001b[0;31m \u001b[0;32mdel\u001b[0m \u001b[0mtrain_masks\u001b[0m\u001b[0;34m\u001b[0m\u001b[0m\n\u001b[0m",
      "\u001b[0;31mNameError\u001b[0m: name 'train_masks' is not defined"
     ]
    }
   ],
   "source": [
    "del train_masks"
   ]
  },
  {
   "cell_type": "code",
   "execution_count": null,
   "metadata": {},
   "outputs": [],
   "source": [
    "from keras.utils.np_utils import to_categorical\n",
    "one_hot_masks = to_categorical(int_masks, num_classes=22)"
   ]
  },
  {
   "cell_type": "code",
   "execution_count": null,
   "metadata": {},
   "outputs": [],
   "source": [
    "del int_masks"
   ]
  },
  {
   "cell_type": "markdown",
   "metadata": {
    "_uuid": "1137f0a009f10b5f69e4dade5f689e744e9ce1d6"
   },
   "source": [
    "# Calculating the salt coverage and salt coverage classes\n",
    "Counting the number of salt pixels in the masks and dividing them by the image size. Also create 11 coverage classes, -0.1 having no salt at all to 1.0 being salt only.\n",
    "Plotting the distribution of coverages and coverage classes, and the class against the raw coverage."
   ]
  },
  {
   "cell_type": "code",
   "execution_count": null,
   "metadata": {
    "_uuid": "18d2aa182a44c65a87c75f41047c653a79bc1c3f"
   },
   "outputs": [],
   "source": [
    "train_df[\"coverage\"] = train_df.masks.map(np.sum) / pow(img_size_ori, 2)"
   ]
  },
  {
   "cell_type": "code",
   "execution_count": null,
   "metadata": {
    "_uuid": "2b13d1ecc7004832e8e042d034922796263054b7"
   },
   "outputs": [],
   "source": [
    "def cov_to_class(val):    \n",
    "    for i in range(0, 11):\n",
    "        if val * 10 <= i :\n",
    "            return i\n",
    "        \n",
    "train_df[\"coverage_class\"] = train_df.coverage.map(cov_to_class)"
   ]
  },
  {
   "cell_type": "code",
   "execution_count": null,
   "metadata": {
    "_uuid": "a5e66ff4809ea2f9a679b7ddbda5028dc324137a"
   },
   "outputs": [],
   "source": [
    "fig, axs = plt.subplots(1, 2, figsize=(15,5))\n",
    "sns.distplot(train_df.coverage, kde=False, ax=axs[0])\n",
    "sns.distplot(train_df.coverage_class, bins=10, kde=False, ax=axs[1])\n",
    "plt.suptitle(\"Salt coverage\")\n",
    "axs[0].set_xlabel(\"Coverage\")\n",
    "axs[1].set_xlabel(\"Coverage class\")"
   ]
  },
  {
   "cell_type": "code",
   "execution_count": null,
   "metadata": {
    "_uuid": "0dd39993eb2c7e77e5ce2d3388ea8ff1d581a670"
   },
   "outputs": [],
   "source": [
    "plt.scatter(train_df.coverage, train_df.coverage_class)\n",
    "plt.xlabel(\"Coverage\")\n",
    "plt.ylabel(\"Coverage class\")"
   ]
  },
  {
   "cell_type": "markdown",
   "metadata": {
    "_uuid": "2391c568019151b098a002937516bb77a506f403"
   },
   "source": [
    "# Plotting the depth distributions\n",
    "Separatelty plotting the depth distributions for the training and the testing data."
   ]
  },
  {
   "cell_type": "code",
   "execution_count": null,
   "metadata": {
    "_uuid": "6ae7b7011b7de3caed58f9ca3939df15ffa319ad"
   },
   "outputs": [],
   "source": [
    "sns.distplot(train_df.z, label=\"Train\")\n",
    "sns.distplot(test_df.z, label=\"Test\")\n",
    "plt.legend()\n",
    "plt.title(\"Depth distribution\")"
   ]
  },
  {
   "cell_type": "markdown",
   "metadata": {
    "_uuid": "14835b3e0eafd3a1c0e3a1f18a2e7979e75d3fa3"
   },
   "source": [
    "# Show some example images"
   ]
  },
  {
   "cell_type": "code",
   "execution_count": null,
   "metadata": {
    "_uuid": "1a6bc85ee458f72c0917edf77895d5abc5eaf3ee",
    "scrolled": false
   },
   "outputs": [],
   "source": [
    "max_images = 60\n",
    "grid_width = 15\n",
    "grid_height = int(max_images / grid_width)\n",
    "fig, axs = plt.subplots(grid_height, grid_width, figsize=(grid_width, grid_height))\n",
    "for i, idx in enumerate(train_df.index[:max_images]):\n",
    "    img = train_df.loc[idx].images\n",
    "    mask = train_df.loc[idx].masks\n",
    "    ax = axs[int(i / grid_width), i % grid_width]\n",
    "    ax.imshow(img, cmap=\"Greys\")\n",
    "    ax.imshow(mask, alpha=0.3, cmap=\"Greens\")\n",
    "    ax.text(1, img_size_ori-1, train_df.loc[idx].z, color=\"black\")\n",
    "    ax.text(img_size_ori - 1, 1, round(train_df.loc[idx].coverage, 2), color=\"black\", ha=\"right\", va=\"top\")\n",
    "    ax.text(1, 1, train_df.loc[idx].coverage_class, color=\"black\", ha=\"left\", va=\"top\")\n",
    "    ax.set_yticklabels([])\n",
    "    ax.set_xticklabels([])\n",
    "plt.suptitle(\"Green: salt. Top-left: coverage class, top-right: salt coverage, bottom-left: depth\")"
   ]
  },
  {
   "cell_type": "markdown",
   "metadata": {
    "_uuid": "00655e32f93f96ebd90dbe94e35ee052f52217cd"
   },
   "source": [
    "# Create train/validation split stratified by salt coverage\n",
    "Using the salt coverage as a stratification criterion. Also show an image to check for correct upsampling."
   ]
  },
  {
   "cell_type": "code",
   "execution_count": 9,
   "metadata": {
    "_uuid": "2d3c3157512d11e71ac74ce51a937b85bedfe1d1"
   },
   "outputs": [],
   "source": [
    " x_train, x_valid, y_train, y_valid = train_test_split(\n",
    "    np.array(train_images).reshape(-1, img_size_target, img_size_target, 3), \n",
    "    np.array(int_masks).reshape(-1, img_size_target, img_size_target, 1), \n",
    "    test_size=0.2, random_state=1337)"
   ]
  },
  {
   "cell_type": "code",
   "execution_count": 10,
   "metadata": {},
   "outputs": [],
   "source": [
    "del int_masks"
   ]
  },
  {
   "cell_type": "code",
   "execution_count": null,
   "metadata": {
    "_uuid": "f2f1ab00f03e71e6d7f9b2214408b5a9779fc235"
   },
   "outputs": [],
   "source": [
    "tmp_img = np.zeros((img_size_target, img_size_target), dtype=train_df.images.loc[ids_train[10]].dtype)\n",
    "tmp_img[:img_size_ori, :img_size_ori] = train_df.images.loc[ids_train[10]]\n",
    "fix, axs = plt.subplots(1, 2, figsize=(15,5))\n",
    "axs[0].imshow(tmp_img, cmap=\"Greys\")\n",
    "axs[0].set_title(\"Original image\")\n",
    "axs[1].imshow(x_train[10].squeeze(), cmap=\"Greys\")\n",
    "axs[1].set_title(\"Scaled image\")"
   ]
  },
  {
   "cell_type": "markdown",
   "metadata": {
    "_uuid": "63ac58ab47921b4e4f54102e2c8b85fa318225f1"
   },
   "source": [
    "# Build model"
   ]
  },
  {
   "cell_type": "code",
   "execution_count": null,
   "metadata": {
    "_uuid": "1aa78bd7c607e1f0e0235e4b2f82056c0361dac5"
   },
   "outputs": [],
   "source": [
    "def conv_block(m, dim, acti, bn, res, do=0):\n",
    "\tn = Conv2D(dim, 3, activation=acti, padding='same')(m)\n",
    "\tn = BatchNormalization()(n) if bn else n\n",
    "\tn = Dropout(do)(n) if do else n\n",
    "\tn = Conv2D(dim, 3, activation=acti, padding='same')(n)\n",
    "\tn = BatchNormalization()(n) if bn else n\n",
    "\treturn Concatenate()([m, n]) if res else n\n",
    "\n",
    "def level_block(m, dim, depth, inc, acti, do, bn, mp, up, res):\n",
    "\tif depth > 0:\n",
    "\t\tn = conv_block(m, dim, acti, bn, res)\n",
    "\t\tm = MaxPooling2D()(n) if mp else Conv2D(dim, 3, strides=2, padding='same')(n)\n",
    "\t\tm = level_block(m, int(inc*dim), depth-1, inc, acti, do, bn, mp, up, res)\n",
    "\t\tif up:\n",
    "\t\t\tm = UpSampling2D()(m)\n",
    "\t\t\tm = Conv2D(dim, 2, activation=acti, padding='same')(m)\n",
    "\t\telse:\n",
    "\t\t\tm = Conv2DTranspose(dim, 3, strides=2, activation=acti, padding='same')(m)\n",
    "\t\tn = Concatenate()([n, m])\n",
    "\t\tm = conv_block(n, dim, acti, bn, res)\n",
    "\telse:\n",
    "\t\tm = conv_block(m, dim, acti, bn, res, do)\n",
    "\treturn m\n",
    "\n",
    "def UNet(img_shape, out_ch=1, start_ch=64, depth=4, inc_rate=2., activation='relu', \n",
    "\t\t dropout=0.5, batchnorm=False, maxpool=True, upconv=True, residual=False):\n",
    "\ti = Input(shape=img_shape)\n",
    "\to = level_block(i, start_ch, depth, inc_rate, activation, dropout, batchnorm, maxpool, upconv, residual)\n",
    "\to = Conv2D(out_ch, 1, activation='sigmoid')(o)\n",
    "\treturn Model(inputs=i, outputs=o)"
   ]
  },
  {
   "cell_type": "code",
   "execution_count": 31,
   "metadata": {
    "_uuid": "2382b088c8a6be16490354ebd386120a9ced414d"
   },
   "outputs": [],
   "source": [
    "#model = UNet((img_size_target,img_size_target,1),start_ch=16,depth=5,batchnorm=True)\n",
    "del model\n",
    "model =  Deeplabv3(input_shape=(101,101,3),backbone=\"mobilenetv2\", classes=22)  "
   ]
  },
  {
   "cell_type": "code",
   "execution_count": 32,
   "metadata": {
    "_uuid": "3399029adb039b049e3d6ca01fef30ed8653482b"
   },
   "outputs": [],
   "source": [
    "model.compile(loss=\"sparse_categorical_crossentropy\", optimizer=\"adam\", metrics=[\"accuracy\",\"sparse_categorical_crossentropy\"])"
   ]
  },
  {
   "cell_type": "code",
   "execution_count": 33,
   "metadata": {
    "_uuid": "c7ded4adc1757c88a1bea59ea36b1a9f7941bd28",
    "scrolled": true
   },
   "outputs": [
    {
     "name": "stdout",
     "output_type": "stream",
     "text": [
      "__________________________________________________________________________________________________\n",
      "Layer (type)                    Output Shape         Param #     Connected to                     \n",
      "==================================================================================================\n",
      "input_4 (InputLayer)            (None, 101, 101, 3)  0                                            \n",
      "__________________________________________________________________________________________________\n",
      "Conv (Conv2D)                   (None, 51, 51, 32)   864         input_4[0][0]                    \n",
      "__________________________________________________________________________________________________\n",
      "Conv_BN (BatchNormalization)    (None, 51, 51, 32)   128         Conv[0][0]                       \n",
      "__________________________________________________________________________________________________\n",
      "Conv_Relu6 (Activation)         (None, 51, 51, 32)   0           Conv_BN[0][0]                    \n",
      "__________________________________________________________________________________________________\n",
      "expanded_conv_depthwise (Depthw (None, 51, 51, 32)   288         Conv_Relu6[0][0]                 \n",
      "__________________________________________________________________________________________________\n",
      "expanded_conv_depthwise_BN (Bat (None, 51, 51, 32)   128         expanded_conv_depthwise[0][0]    \n",
      "__________________________________________________________________________________________________\n",
      "expanded_conv_depthwise_relu (A (None, 51, 51, 32)   0           expanded_conv_depthwise_BN[0][0] \n",
      "__________________________________________________________________________________________________\n",
      "expanded_conv_project (Conv2D)  (None, 51, 51, 16)   512         expanded_conv_depthwise_relu[0][0\n",
      "__________________________________________________________________________________________________\n",
      "expanded_conv_project_BN (Batch (None, 51, 51, 16)   64          expanded_conv_project[0][0]      \n",
      "__________________________________________________________________________________________________\n",
      "dropout_55 (Dropout)            (None, 51, 51, 16)   0           expanded_conv_project_BN[0][0]   \n",
      "__________________________________________________________________________________________________\n",
      "expanded_conv_1_expand (Conv2D) (None, 51, 51, 96)   1536        dropout_55[0][0]                 \n",
      "__________________________________________________________________________________________________\n",
      "expanded_conv_1_expand_BN (Batc (None, 51, 51, 96)   384         expanded_conv_1_expand[0][0]     \n",
      "__________________________________________________________________________________________________\n",
      "expanded_conv_1_expand_relu (Ac (None, 51, 51, 96)   0           expanded_conv_1_expand_BN[0][0]  \n",
      "__________________________________________________________________________________________________\n",
      "expanded_conv_1_depthwise (Dept (None, 26, 26, 96)   864         expanded_conv_1_expand_relu[0][0]\n",
      "__________________________________________________________________________________________________\n",
      "expanded_conv_1_depthwise_BN (B (None, 26, 26, 96)   384         expanded_conv_1_depthwise[0][0]  \n",
      "__________________________________________________________________________________________________\n",
      "expanded_conv_1_depthwise_relu  (None, 26, 26, 96)   0           expanded_conv_1_depthwise_BN[0][0\n",
      "__________________________________________________________________________________________________\n",
      "expanded_conv_1_project (Conv2D (None, 26, 26, 24)   2304        expanded_conv_1_depthwise_relu[0]\n",
      "__________________________________________________________________________________________________\n",
      "expanded_conv_1_project_BN (Bat (None, 26, 26, 24)   96          expanded_conv_1_project[0][0]    \n",
      "__________________________________________________________________________________________________\n",
      "dropout_56 (Dropout)            (None, 26, 26, 24)   0           expanded_conv_1_project_BN[0][0] \n",
      "__________________________________________________________________________________________________\n",
      "expanded_conv_2_expand (Conv2D) (None, 26, 26, 144)  3456        dropout_56[0][0]                 \n",
      "__________________________________________________________________________________________________\n",
      "expanded_conv_2_expand_BN (Batc (None, 26, 26, 144)  576         expanded_conv_2_expand[0][0]     \n",
      "__________________________________________________________________________________________________\n",
      "expanded_conv_2_expand_relu (Ac (None, 26, 26, 144)  0           expanded_conv_2_expand_BN[0][0]  \n",
      "__________________________________________________________________________________________________\n",
      "expanded_conv_2_depthwise (Dept (None, 26, 26, 144)  1296        expanded_conv_2_expand_relu[0][0]\n",
      "__________________________________________________________________________________________________\n",
      "expanded_conv_2_depthwise_BN (B (None, 26, 26, 144)  576         expanded_conv_2_depthwise[0][0]  \n",
      "__________________________________________________________________________________________________\n",
      "expanded_conv_2_depthwise_relu  (None, 26, 26, 144)  0           expanded_conv_2_depthwise_BN[0][0\n",
      "__________________________________________________________________________________________________\n",
      "expanded_conv_2_project (Conv2D (None, 26, 26, 24)   3456        expanded_conv_2_depthwise_relu[0]\n",
      "__________________________________________________________________________________________________\n",
      "expanded_conv_2_project_BN (Bat (None, 26, 26, 24)   96          expanded_conv_2_project[0][0]    \n",
      "__________________________________________________________________________________________________\n",
      "expanded_conv_2_add (Add)       (None, 26, 26, 24)   0           dropout_56[0][0]                 \n",
      "                                                                 expanded_conv_2_project_BN[0][0] \n",
      "__________________________________________________________________________________________________\n",
      "dropout_57 (Dropout)            (None, 26, 26, 24)   0           expanded_conv_2_add[0][0]        \n",
      "__________________________________________________________________________________________________\n",
      "expanded_conv_3_expand (Conv2D) (None, 26, 26, 144)  3456        dropout_57[0][0]                 \n",
      "__________________________________________________________________________________________________\n",
      "expanded_conv_3_expand_BN (Batc (None, 26, 26, 144)  576         expanded_conv_3_expand[0][0]     \n",
      "__________________________________________________________________________________________________\n",
      "expanded_conv_3_expand_relu (Ac (None, 26, 26, 144)  0           expanded_conv_3_expand_BN[0][0]  \n",
      "__________________________________________________________________________________________________\n",
      "expanded_conv_3_depthwise (Dept (None, 13, 13, 144)  1296        expanded_conv_3_expand_relu[0][0]\n",
      "__________________________________________________________________________________________________\n",
      "expanded_conv_3_depthwise_BN (B (None, 13, 13, 144)  576         expanded_conv_3_depthwise[0][0]  \n",
      "__________________________________________________________________________________________________\n",
      "expanded_conv_3_depthwise_relu  (None, 13, 13, 144)  0           expanded_conv_3_depthwise_BN[0][0\n",
      "__________________________________________________________________________________________________\n",
      "expanded_conv_3_project (Conv2D (None, 13, 13, 32)   4608        expanded_conv_3_depthwise_relu[0]\n",
      "__________________________________________________________________________________________________\n",
      "expanded_conv_3_project_BN (Bat (None, 13, 13, 32)   128         expanded_conv_3_project[0][0]    \n",
      "__________________________________________________________________________________________________\n",
      "dropout_58 (Dropout)            (None, 13, 13, 32)   0           expanded_conv_3_project_BN[0][0] \n",
      "__________________________________________________________________________________________________\n",
      "expanded_conv_4_expand (Conv2D) (None, 13, 13, 192)  6144        dropout_58[0][0]                 \n",
      "__________________________________________________________________________________________________\n",
      "expanded_conv_4_expand_BN (Batc (None, 13, 13, 192)  768         expanded_conv_4_expand[0][0]     \n",
      "__________________________________________________________________________________________________\n",
      "expanded_conv_4_expand_relu (Ac (None, 13, 13, 192)  0           expanded_conv_4_expand_BN[0][0]  \n",
      "__________________________________________________________________________________________________\n",
      "expanded_conv_4_depthwise (Dept (None, 13, 13, 192)  1728        expanded_conv_4_expand_relu[0][0]\n",
      "__________________________________________________________________________________________________\n",
      "expanded_conv_4_depthwise_BN (B (None, 13, 13, 192)  768         expanded_conv_4_depthwise[0][0]  \n",
      "__________________________________________________________________________________________________\n",
      "expanded_conv_4_depthwise_relu  (None, 13, 13, 192)  0           expanded_conv_4_depthwise_BN[0][0\n",
      "__________________________________________________________________________________________________\n",
      "expanded_conv_4_project (Conv2D (None, 13, 13, 32)   6144        expanded_conv_4_depthwise_relu[0]\n",
      "__________________________________________________________________________________________________\n",
      "expanded_conv_4_project_BN (Bat (None, 13, 13, 32)   128         expanded_conv_4_project[0][0]    \n",
      "__________________________________________________________________________________________________\n",
      "expanded_conv_4_add (Add)       (None, 13, 13, 32)   0           dropout_58[0][0]                 \n",
      "                                                                 expanded_conv_4_project_BN[0][0] \n",
      "__________________________________________________________________________________________________\n",
      "dropout_59 (Dropout)            (None, 13, 13, 32)   0           expanded_conv_4_add[0][0]        \n",
      "__________________________________________________________________________________________________\n",
      "expanded_conv_5_expand (Conv2D) (None, 13, 13, 192)  6144        dropout_59[0][0]                 \n",
      "__________________________________________________________________________________________________\n",
      "expanded_conv_5_expand_BN (Batc (None, 13, 13, 192)  768         expanded_conv_5_expand[0][0]     \n",
      "__________________________________________________________________________________________________\n",
      "expanded_conv_5_expand_relu (Ac (None, 13, 13, 192)  0           expanded_conv_5_expand_BN[0][0]  \n",
      "__________________________________________________________________________________________________\n",
      "expanded_conv_5_depthwise (Dept (None, 13, 13, 192)  1728        expanded_conv_5_expand_relu[0][0]\n",
      "__________________________________________________________________________________________________\n",
      "expanded_conv_5_depthwise_BN (B (None, 13, 13, 192)  768         expanded_conv_5_depthwise[0][0]  \n",
      "__________________________________________________________________________________________________\n",
      "expanded_conv_5_depthwise_relu  (None, 13, 13, 192)  0           expanded_conv_5_depthwise_BN[0][0\n",
      "__________________________________________________________________________________________________\n",
      "expanded_conv_5_project (Conv2D (None, 13, 13, 32)   6144        expanded_conv_5_depthwise_relu[0]\n",
      "__________________________________________________________________________________________________\n",
      "expanded_conv_5_project_BN (Bat (None, 13, 13, 32)   128         expanded_conv_5_project[0][0]    \n",
      "__________________________________________________________________________________________________\n",
      "expanded_conv_5_add (Add)       (None, 13, 13, 32)   0           dropout_59[0][0]                 \n",
      "                                                                 expanded_conv_5_project_BN[0][0] \n",
      "__________________________________________________________________________________________________\n",
      "dropout_60 (Dropout)            (None, 13, 13, 32)   0           expanded_conv_5_add[0][0]        \n",
      "__________________________________________________________________________________________________\n",
      "expanded_conv_6_expand (Conv2D) (None, 13, 13, 192)  6144        dropout_60[0][0]                 \n",
      "__________________________________________________________________________________________________\n",
      "expanded_conv_6_expand_BN (Batc (None, 13, 13, 192)  768         expanded_conv_6_expand[0][0]     \n",
      "__________________________________________________________________________________________________\n",
      "expanded_conv_6_expand_relu (Ac (None, 13, 13, 192)  0           expanded_conv_6_expand_BN[0][0]  \n",
      "__________________________________________________________________________________________________\n",
      "expanded_conv_6_depthwise (Dept (None, 13, 13, 192)  1728        expanded_conv_6_expand_relu[0][0]\n",
      "__________________________________________________________________________________________________\n",
      "expanded_conv_6_depthwise_BN (B (None, 13, 13, 192)  768         expanded_conv_6_depthwise[0][0]  \n",
      "__________________________________________________________________________________________________\n",
      "expanded_conv_6_depthwise_relu  (None, 13, 13, 192)  0           expanded_conv_6_depthwise_BN[0][0\n",
      "__________________________________________________________________________________________________\n",
      "expanded_conv_6_project (Conv2D (None, 13, 13, 64)   12288       expanded_conv_6_depthwise_relu[0]\n",
      "__________________________________________________________________________________________________\n",
      "expanded_conv_6_project_BN (Bat (None, 13, 13, 64)   256         expanded_conv_6_project[0][0]    \n",
      "__________________________________________________________________________________________________\n",
      "dropout_61 (Dropout)            (None, 13, 13, 64)   0           expanded_conv_6_project_BN[0][0] \n",
      "__________________________________________________________________________________________________\n",
      "expanded_conv_7_expand (Conv2D) (None, 13, 13, 384)  24576       dropout_61[0][0]                 \n",
      "__________________________________________________________________________________________________\n",
      "expanded_conv_7_expand_BN (Batc (None, 13, 13, 384)  1536        expanded_conv_7_expand[0][0]     \n",
      "__________________________________________________________________________________________________\n",
      "expanded_conv_7_expand_relu (Ac (None, 13, 13, 384)  0           expanded_conv_7_expand_BN[0][0]  \n",
      "__________________________________________________________________________________________________\n",
      "expanded_conv_7_depthwise (Dept (None, 13, 13, 384)  3456        expanded_conv_7_expand_relu[0][0]\n",
      "__________________________________________________________________________________________________\n",
      "expanded_conv_7_depthwise_BN (B (None, 13, 13, 384)  1536        expanded_conv_7_depthwise[0][0]  \n",
      "__________________________________________________________________________________________________\n",
      "expanded_conv_7_depthwise_relu  (None, 13, 13, 384)  0           expanded_conv_7_depthwise_BN[0][0\n",
      "__________________________________________________________________________________________________\n",
      "expanded_conv_7_project (Conv2D (None, 13, 13, 64)   24576       expanded_conv_7_depthwise_relu[0]\n",
      "__________________________________________________________________________________________________\n",
      "expanded_conv_7_project_BN (Bat (None, 13, 13, 64)   256         expanded_conv_7_project[0][0]    \n",
      "__________________________________________________________________________________________________\n",
      "expanded_conv_7_add (Add)       (None, 13, 13, 64)   0           dropout_61[0][0]                 \n",
      "                                                                 expanded_conv_7_project_BN[0][0] \n",
      "__________________________________________________________________________________________________\n",
      "dropout_62 (Dropout)            (None, 13, 13, 64)   0           expanded_conv_7_add[0][0]        \n",
      "__________________________________________________________________________________________________\n",
      "expanded_conv_8_expand (Conv2D) (None, 13, 13, 384)  24576       dropout_62[0][0]                 \n",
      "__________________________________________________________________________________________________\n",
      "expanded_conv_8_expand_BN (Batc (None, 13, 13, 384)  1536        expanded_conv_8_expand[0][0]     \n",
      "__________________________________________________________________________________________________\n",
      "expanded_conv_8_expand_relu (Ac (None, 13, 13, 384)  0           expanded_conv_8_expand_BN[0][0]  \n",
      "__________________________________________________________________________________________________\n",
      "expanded_conv_8_depthwise (Dept (None, 13, 13, 384)  3456        expanded_conv_8_expand_relu[0][0]\n",
      "__________________________________________________________________________________________________\n",
      "expanded_conv_8_depthwise_BN (B (None, 13, 13, 384)  1536        expanded_conv_8_depthwise[0][0]  \n",
      "__________________________________________________________________________________________________\n",
      "expanded_conv_8_depthwise_relu  (None, 13, 13, 384)  0           expanded_conv_8_depthwise_BN[0][0\n",
      "__________________________________________________________________________________________________\n",
      "expanded_conv_8_project (Conv2D (None, 13, 13, 64)   24576       expanded_conv_8_depthwise_relu[0]\n",
      "__________________________________________________________________________________________________\n",
      "expanded_conv_8_project_BN (Bat (None, 13, 13, 64)   256         expanded_conv_8_project[0][0]    \n",
      "__________________________________________________________________________________________________\n",
      "expanded_conv_8_add (Add)       (None, 13, 13, 64)   0           dropout_62[0][0]                 \n",
      "                                                                 expanded_conv_8_project_BN[0][0] \n",
      "__________________________________________________________________________________________________\n",
      "dropout_63 (Dropout)            (None, 13, 13, 64)   0           expanded_conv_8_add[0][0]        \n",
      "__________________________________________________________________________________________________\n",
      "expanded_conv_9_expand (Conv2D) (None, 13, 13, 384)  24576       dropout_63[0][0]                 \n",
      "__________________________________________________________________________________________________\n",
      "expanded_conv_9_expand_BN (Batc (None, 13, 13, 384)  1536        expanded_conv_9_expand[0][0]     \n",
      "__________________________________________________________________________________________________\n",
      "expanded_conv_9_expand_relu (Ac (None, 13, 13, 384)  0           expanded_conv_9_expand_BN[0][0]  \n",
      "__________________________________________________________________________________________________\n",
      "expanded_conv_9_depthwise (Dept (None, 13, 13, 384)  3456        expanded_conv_9_expand_relu[0][0]\n",
      "__________________________________________________________________________________________________\n",
      "expanded_conv_9_depthwise_BN (B (None, 13, 13, 384)  1536        expanded_conv_9_depthwise[0][0]  \n",
      "__________________________________________________________________________________________________\n",
      "expanded_conv_9_depthwise_relu  (None, 13, 13, 384)  0           expanded_conv_9_depthwise_BN[0][0\n",
      "__________________________________________________________________________________________________\n",
      "expanded_conv_9_project (Conv2D (None, 13, 13, 64)   24576       expanded_conv_9_depthwise_relu[0]\n",
      "__________________________________________________________________________________________________\n",
      "expanded_conv_9_project_BN (Bat (None, 13, 13, 64)   256         expanded_conv_9_project[0][0]    \n",
      "__________________________________________________________________________________________________\n",
      "expanded_conv_9_add (Add)       (None, 13, 13, 64)   0           dropout_63[0][0]                 \n",
      "                                                                 expanded_conv_9_project_BN[0][0] \n",
      "__________________________________________________________________________________________________\n",
      "dropout_64 (Dropout)            (None, 13, 13, 64)   0           expanded_conv_9_add[0][0]        \n",
      "__________________________________________________________________________________________________\n",
      "expanded_conv_10_expand (Conv2D (None, 13, 13, 384)  24576       dropout_64[0][0]                 \n",
      "__________________________________________________________________________________________________\n",
      "expanded_conv_10_expand_BN (Bat (None, 13, 13, 384)  1536        expanded_conv_10_expand[0][0]    \n",
      "__________________________________________________________________________________________________\n",
      "expanded_conv_10_expand_relu (A (None, 13, 13, 384)  0           expanded_conv_10_expand_BN[0][0] \n",
      "__________________________________________________________________________________________________\n",
      "expanded_conv_10_depthwise (Dep (None, 13, 13, 384)  3456        expanded_conv_10_expand_relu[0][0\n",
      "__________________________________________________________________________________________________\n",
      "expanded_conv_10_depthwise_BN ( (None, 13, 13, 384)  1536        expanded_conv_10_depthwise[0][0] \n",
      "__________________________________________________________________________________________________\n",
      "expanded_conv_10_depthwise_relu (None, 13, 13, 384)  0           expanded_conv_10_depthwise_BN[0][\n",
      "__________________________________________________________________________________________________\n",
      "expanded_conv_10_project (Conv2 (None, 13, 13, 96)   36864       expanded_conv_10_depthwise_relu[0\n",
      "__________________________________________________________________________________________________\n",
      "expanded_conv_10_project_BN (Ba (None, 13, 13, 96)   384         expanded_conv_10_project[0][0]   \n",
      "__________________________________________________________________________________________________\n",
      "dropout_65 (Dropout)            (None, 13, 13, 96)   0           expanded_conv_10_project_BN[0][0]\n",
      "__________________________________________________________________________________________________\n",
      "expanded_conv_11_expand (Conv2D (None, 13, 13, 576)  55296       dropout_65[0][0]                 \n",
      "__________________________________________________________________________________________________\n",
      "expanded_conv_11_expand_BN (Bat (None, 13, 13, 576)  2304        expanded_conv_11_expand[0][0]    \n",
      "__________________________________________________________________________________________________\n",
      "expanded_conv_11_expand_relu (A (None, 13, 13, 576)  0           expanded_conv_11_expand_BN[0][0] \n",
      "__________________________________________________________________________________________________\n",
      "expanded_conv_11_depthwise (Dep (None, 13, 13, 576)  5184        expanded_conv_11_expand_relu[0][0\n",
      "__________________________________________________________________________________________________\n",
      "expanded_conv_11_depthwise_BN ( (None, 13, 13, 576)  2304        expanded_conv_11_depthwise[0][0] \n",
      "__________________________________________________________________________________________________\n",
      "expanded_conv_11_depthwise_relu (None, 13, 13, 576)  0           expanded_conv_11_depthwise_BN[0][\n",
      "__________________________________________________________________________________________________\n",
      "expanded_conv_11_project (Conv2 (None, 13, 13, 96)   55296       expanded_conv_11_depthwise_relu[0\n",
      "__________________________________________________________________________________________________\n",
      "expanded_conv_11_project_BN (Ba (None, 13, 13, 96)   384         expanded_conv_11_project[0][0]   \n",
      "__________________________________________________________________________________________________\n",
      "expanded_conv_11_add (Add)      (None, 13, 13, 96)   0           dropout_65[0][0]                 \n",
      "                                                                 expanded_conv_11_project_BN[0][0]\n",
      "__________________________________________________________________________________________________\n",
      "dropout_66 (Dropout)            (None, 13, 13, 96)   0           expanded_conv_11_add[0][0]       \n",
      "__________________________________________________________________________________________________\n",
      "expanded_conv_12_expand (Conv2D (None, 13, 13, 576)  55296       dropout_66[0][0]                 \n",
      "__________________________________________________________________________________________________\n",
      "expanded_conv_12_expand_BN (Bat (None, 13, 13, 576)  2304        expanded_conv_12_expand[0][0]    \n",
      "__________________________________________________________________________________________________\n",
      "expanded_conv_12_expand_relu (A (None, 13, 13, 576)  0           expanded_conv_12_expand_BN[0][0] \n",
      "__________________________________________________________________________________________________\n",
      "expanded_conv_12_depthwise (Dep (None, 13, 13, 576)  5184        expanded_conv_12_expand_relu[0][0\n",
      "__________________________________________________________________________________________________\n",
      "expanded_conv_12_depthwise_BN ( (None, 13, 13, 576)  2304        expanded_conv_12_depthwise[0][0] \n",
      "__________________________________________________________________________________________________\n",
      "expanded_conv_12_depthwise_relu (None, 13, 13, 576)  0           expanded_conv_12_depthwise_BN[0][\n",
      "__________________________________________________________________________________________________\n",
      "expanded_conv_12_project (Conv2 (None, 13, 13, 96)   55296       expanded_conv_12_depthwise_relu[0\n",
      "__________________________________________________________________________________________________\n",
      "expanded_conv_12_project_BN (Ba (None, 13, 13, 96)   384         expanded_conv_12_project[0][0]   \n",
      "__________________________________________________________________________________________________\n",
      "expanded_conv_12_add (Add)      (None, 13, 13, 96)   0           dropout_66[0][0]                 \n",
      "                                                                 expanded_conv_12_project_BN[0][0]\n",
      "__________________________________________________________________________________________________\n",
      "dropout_67 (Dropout)            (None, 13, 13, 96)   0           expanded_conv_12_add[0][0]       \n",
      "__________________________________________________________________________________________________\n",
      "expanded_conv_13_expand (Conv2D (None, 13, 13, 576)  55296       dropout_67[0][0]                 \n",
      "__________________________________________________________________________________________________\n",
      "expanded_conv_13_expand_BN (Bat (None, 13, 13, 576)  2304        expanded_conv_13_expand[0][0]    \n",
      "__________________________________________________________________________________________________\n",
      "expanded_conv_13_expand_relu (A (None, 13, 13, 576)  0           expanded_conv_13_expand_BN[0][0] \n",
      "__________________________________________________________________________________________________\n",
      "expanded_conv_13_depthwise (Dep (None, 13, 13, 576)  5184        expanded_conv_13_expand_relu[0][0\n",
      "__________________________________________________________________________________________________\n",
      "expanded_conv_13_depthwise_BN ( (None, 13, 13, 576)  2304        expanded_conv_13_depthwise[0][0] \n",
      "__________________________________________________________________________________________________\n",
      "expanded_conv_13_depthwise_relu (None, 13, 13, 576)  0           expanded_conv_13_depthwise_BN[0][\n",
      "__________________________________________________________________________________________________\n",
      "expanded_conv_13_project (Conv2 (None, 13, 13, 160)  92160       expanded_conv_13_depthwise_relu[0\n",
      "__________________________________________________________________________________________________\n",
      "expanded_conv_13_project_BN (Ba (None, 13, 13, 160)  640         expanded_conv_13_project[0][0]   \n",
      "__________________________________________________________________________________________________\n",
      "dropout_68 (Dropout)            (None, 13, 13, 160)  0           expanded_conv_13_project_BN[0][0]\n",
      "__________________________________________________________________________________________________\n",
      "expanded_conv_14_expand (Conv2D (None, 13, 13, 960)  153600      dropout_68[0][0]                 \n",
      "__________________________________________________________________________________________________\n",
      "expanded_conv_14_expand_BN (Bat (None, 13, 13, 960)  3840        expanded_conv_14_expand[0][0]    \n",
      "__________________________________________________________________________________________________\n",
      "expanded_conv_14_expand_relu (A (None, 13, 13, 960)  0           expanded_conv_14_expand_BN[0][0] \n",
      "__________________________________________________________________________________________________\n",
      "expanded_conv_14_depthwise (Dep (None, 13, 13, 960)  8640        expanded_conv_14_expand_relu[0][0\n",
      "__________________________________________________________________________________________________\n",
      "expanded_conv_14_depthwise_BN ( (None, 13, 13, 960)  3840        expanded_conv_14_depthwise[0][0] \n",
      "__________________________________________________________________________________________________\n",
      "expanded_conv_14_depthwise_relu (None, 13, 13, 960)  0           expanded_conv_14_depthwise_BN[0][\n",
      "__________________________________________________________________________________________________\n",
      "expanded_conv_14_project (Conv2 (None, 13, 13, 160)  153600      expanded_conv_14_depthwise_relu[0\n",
      "__________________________________________________________________________________________________\n",
      "expanded_conv_14_project_BN (Ba (None, 13, 13, 160)  640         expanded_conv_14_project[0][0]   \n",
      "__________________________________________________________________________________________________\n",
      "expanded_conv_14_add (Add)      (None, 13, 13, 160)  0           dropout_68[0][0]                 \n",
      "                                                                 expanded_conv_14_project_BN[0][0]\n",
      "__________________________________________________________________________________________________\n",
      "dropout_69 (Dropout)            (None, 13, 13, 160)  0           expanded_conv_14_add[0][0]       \n",
      "__________________________________________________________________________________________________\n",
      "expanded_conv_15_expand (Conv2D (None, 13, 13, 960)  153600      dropout_69[0][0]                 \n",
      "__________________________________________________________________________________________________\n",
      "expanded_conv_15_expand_BN (Bat (None, 13, 13, 960)  3840        expanded_conv_15_expand[0][0]    \n",
      "__________________________________________________________________________________________________\n",
      "expanded_conv_15_expand_relu (A (None, 13, 13, 960)  0           expanded_conv_15_expand_BN[0][0] \n",
      "__________________________________________________________________________________________________\n",
      "expanded_conv_15_depthwise (Dep (None, 13, 13, 960)  8640        expanded_conv_15_expand_relu[0][0\n",
      "__________________________________________________________________________________________________\n",
      "expanded_conv_15_depthwise_BN ( (None, 13, 13, 960)  3840        expanded_conv_15_depthwise[0][0] \n",
      "__________________________________________________________________________________________________\n",
      "expanded_conv_15_depthwise_relu (None, 13, 13, 960)  0           expanded_conv_15_depthwise_BN[0][\n",
      "__________________________________________________________________________________________________\n",
      "expanded_conv_15_project (Conv2 (None, 13, 13, 160)  153600      expanded_conv_15_depthwise_relu[0\n",
      "__________________________________________________________________________________________________\n",
      "expanded_conv_15_project_BN (Ba (None, 13, 13, 160)  640         expanded_conv_15_project[0][0]   \n",
      "__________________________________________________________________________________________________\n",
      "expanded_conv_15_add (Add)      (None, 13, 13, 160)  0           dropout_69[0][0]                 \n",
      "                                                                 expanded_conv_15_project_BN[0][0]\n",
      "__________________________________________________________________________________________________\n",
      "dropout_70 (Dropout)            (None, 13, 13, 160)  0           expanded_conv_15_add[0][0]       \n",
      "__________________________________________________________________________________________________\n",
      "expanded_conv_16_expand (Conv2D (None, 13, 13, 960)  153600      dropout_70[0][0]                 \n",
      "__________________________________________________________________________________________________\n",
      "expanded_conv_16_expand_BN (Bat (None, 13, 13, 960)  3840        expanded_conv_16_expand[0][0]    \n",
      "__________________________________________________________________________________________________\n",
      "expanded_conv_16_expand_relu (A (None, 13, 13, 960)  0           expanded_conv_16_expand_BN[0][0] \n",
      "__________________________________________________________________________________________________\n",
      "expanded_conv_16_depthwise (Dep (None, 13, 13, 960)  8640        expanded_conv_16_expand_relu[0][0\n",
      "__________________________________________________________________________________________________\n",
      "expanded_conv_16_depthwise_BN ( (None, 13, 13, 960)  3840        expanded_conv_16_depthwise[0][0] \n",
      "__________________________________________________________________________________________________\n",
      "expanded_conv_16_depthwise_relu (None, 13, 13, 960)  0           expanded_conv_16_depthwise_BN[0][\n",
      "__________________________________________________________________________________________________\n",
      "expanded_conv_16_project (Conv2 (None, 13, 13, 320)  307200      expanded_conv_16_depthwise_relu[0\n",
      "__________________________________________________________________________________________________\n",
      "expanded_conv_16_project_BN (Ba (None, 13, 13, 320)  1280        expanded_conv_16_project[0][0]   \n",
      "__________________________________________________________________________________________________\n",
      "dropout_71 (Dropout)            (None, 13, 13, 320)  0           expanded_conv_16_project_BN[0][0]\n",
      "__________________________________________________________________________________________________\n",
      "average_pooling2d_4 (AveragePoo (None, 1, 1, 320)    0           dropout_71[0][0]                 \n",
      "__________________________________________________________________________________________________\n",
      "image_pooling (Conv2D)          (None, 1, 1, 256)    81920       average_pooling2d_4[0][0]        \n",
      "__________________________________________________________________________________________________\n",
      "image_pooling_BN (BatchNormaliz (None, 1, 1, 256)    1024        image_pooling[0][0]              \n",
      "__________________________________________________________________________________________________\n",
      "aspp0 (Conv2D)                  (None, 13, 13, 256)  81920       dropout_71[0][0]                 \n",
      "__________________________________________________________________________________________________\n",
      "activation_7 (Activation)       (None, 1, 1, 256)    0           image_pooling_BN[0][0]           \n",
      "__________________________________________________________________________________________________\n",
      "aspp0_BN (BatchNormalization)   (None, 13, 13, 256)  1024        aspp0[0][0]                      \n",
      "__________________________________________________________________________________________________\n",
      "bilinear_upsampling_7 (Bilinear (None, 13, 13, 256)  0           activation_7[0][0]               \n",
      "__________________________________________________________________________________________________\n",
      "aspp0_activation (Activation)   (None, 13, 13, 256)  0           aspp0_BN[0][0]                   \n",
      "__________________________________________________________________________________________________\n",
      "concatenate_4 (Concatenate)     (None, 13, 13, 512)  0           bilinear_upsampling_7[0][0]      \n",
      "                                                                 aspp0_activation[0][0]           \n",
      "__________________________________________________________________________________________________\n",
      "concat_projection (Conv2D)      (None, 13, 13, 256)  131072      concatenate_4[0][0]              \n",
      "__________________________________________________________________________________________________\n",
      "concat_projection_BN (BatchNorm (None, 13, 13, 256)  1024        concat_projection[0][0]          \n",
      "__________________________________________________________________________________________________\n",
      "activation_8 (Activation)       (None, 13, 13, 256)  0           concat_projection_BN[0][0]       \n",
      "__________________________________________________________________________________________________\n",
      "dropout_72 (Dropout)            (None, 13, 13, 256)  0           activation_8[0][0]               \n",
      "__________________________________________________________________________________________________\n",
      "custom_logits_semantic (Conv2D) (None, 13, 13, 22)   5654        dropout_72[0][0]                 \n",
      "__________________________________________________________________________________________________\n",
      "bilinear_upsampling_8 (Bilinear (None, 101, 101, 22) 0           custom_logits_semantic[0][0]     \n",
      "==================================================================================================\n",
      "Total params: 2,146,902\n",
      "Trainable params: 2,113,814\n",
      "Non-trainable params: 33,088\n",
      "__________________________________________________________________________________________________\n"
     ]
    }
   ],
   "source": [
    "model.summary()"
   ]
  },
  {
   "cell_type": "markdown",
   "metadata": {
    "_uuid": "c007157c2fd3d7dadcaeee2a6376351852d1e565"
   },
   "source": [
    "# Data augmentation"
   ]
  },
  {
   "cell_type": "code",
   "execution_count": 14,
   "metadata": {
    "_uuid": "88b3f57eac3ec3719b401730dc6d8d2d89d09ccc"
   },
   "outputs": [],
   "source": [
    "x_train = np.append(x_train, [np.fliplr(x) for x in x_train], axis=0)\n",
    "y_train = np.append(y_train, [np.fliplr(x) for x in y_train], axis=0)\n",
    "#train_images=np.array(train_images)\n",
    "#one_hot_masks=np.array(one_hot_masks)"
   ]
  },
  {
   "cell_type": "code",
   "execution_count": null,
   "metadata": {},
   "outputs": [],
   "source": [
    "train_images.shape\n",
    "#one_hot_masks.shape"
   ]
  },
  {
   "cell_type": "code",
   "execution_count": 34,
   "metadata": {
    "_uuid": "7040f72549212dd4f71c13dfbd8bf013481ea369"
   },
   "outputs": [
    {
     "data": {
      "text/plain": [
       "Text(0.5,0.98,'Top row: original images, bottom row: augmented images')"
      ]
     },
     "execution_count": 34,
     "metadata": {},
     "output_type": "execute_result"
    },
    {
     "data": {
      "image/png": "[encoded data removed]",
      "text/plain": [
       "<Figure size 1080x216 with 20 Axes>"
      ]
     },
     "metadata": {},
     "output_type": "display_data"
    }
   ],
   "source": [
    "fig, axs = plt.subplots(2, 10, figsize=(15,3))\n",
    "for i in range(10):\n",
    "    axs[0][i].imshow(x_train[i].squeeze(), cmap=\"Greys\")\n",
    "    axs[0][i].imshow(y_train[i].squeeze(), cmap=\"Greens\", alpha=0.3)\n",
    "    axs[1][i].imshow(x_train[int(len(x_train)/2 + i)].squeeze(), cmap=\"Greys\")\n",
    "    axs[1][i].imshow(y_train[int(len(y_train)/2 + i)].squeeze(), cmap=\"Greens\", alpha=0.3)\n",
    "fig.suptitle(\"Top row: original images, bottom row: augmented images\")"
   ]
  },
  {
   "cell_type": "markdown",
   "metadata": {
    "_uuid": "f5a6b1abaa4681cba3b608bc5f33cf260370d82a"
   },
   "source": [
    "# Training"
   ]
  },
  {
   "cell_type": "code",
   "execution_count": null,
   "metadata": {},
   "outputs": [],
   "source": [
    "print(x_train.shape)\n",
    "print(np.repeat(x_train,3,3).shape)"
   ]
  },
  {
   "cell_type": "code",
   "execution_count": 35,
   "metadata": {
    "_uuid": "f1773642758da7b4480e0e48c045bd01ea3684ae",
    "scrolled": true
   },
   "outputs": [
    {
     "name": "stdout",
     "output_type": "stream",
     "text": [
      "Train on 4660 samples, validate on 583 samples\n",
      "Epoch 1/200\n",
      "4660/4660 [==============================] - 173s 37ms/step - loss: 2.9019 - acc: 0.7553 - sparse_categorical_crossentropy: 2.9019 - val_loss: 3.1731 - val_acc: 0.8220 - val_sparse_categorical_crossentropy: 3.1731\n",
      "\n",
      "Epoch 00001: val_loss improved from inf to 3.17314, saving model to ./deeplabv3.model\n",
      "Epoch 2/200\n",
      "4660/4660 [==============================] - 155s 33ms/step - loss: 2.3826 - acc: 0.7827 - sparse_categorical_crossentropy: 2.3826 - val_loss: 2.8682 - val_acc: 0.8220 - val_sparse_categorical_crossentropy: 2.8682\n",
      "\n",
      "Epoch 00002: val_loss improved from 3.17314 to 2.86823, saving model to ./deeplabv3.model\n",
      "Epoch 3/200\n",
      "4660/4660 [==============================] - 156s 34ms/step - loss: 2.2368 - acc: 0.7310 - sparse_categorical_crossentropy: 2.2368 - val_loss: 3.1598 - val_acc: 0.8220 - val_sparse_categorical_crossentropy: 3.1598\n",
      "\n",
      "Epoch 00003: val_loss did not improve from 2.86823\n",
      "Epoch 4/200\n",
      "4660/4660 [==============================] - 158s 34ms/step - loss: 2.2871 - acc: 0.4563 - sparse_categorical_crossentropy: 2.2871 - val_loss: 2.8545 - val_acc: 0.8220 - val_sparse_categorical_crossentropy: 2.8545\n",
      "\n",
      "Epoch 00004: val_loss improved from 2.86823 to 2.85451, saving model to ./deeplabv3.model\n",
      "Epoch 5/200\n",
      "4660/4660 [==============================] - 158s 34ms/step - loss: 2.0674 - acc: 0.4603 - sparse_categorical_crossentropy: 2.0674 - val_loss: 2.8319 - val_acc: 0.8220 - val_sparse_categorical_crossentropy: 2.8319\n",
      "\n",
      "Epoch 00005: val_loss improved from 2.85451 to 2.83192, saving model to ./deeplabv3.model\n",
      "Epoch 6/200\n",
      "4660/4660 [==============================] - 158s 34ms/step - loss: 2.0251 - acc: 0.4276 - sparse_categorical_crossentropy: 2.0251 - val_loss: 2.4030 - val_acc: 0.6446 - val_sparse_categorical_crossentropy: 2.4030\n",
      "\n",
      "Epoch 00006: val_loss improved from 2.83192 to 2.40299, saving model to ./deeplabv3.model\n",
      "Epoch 7/200\n",
      "4660/4660 [==============================] - 157s 34ms/step - loss: 1.9208 - acc: 0.4339 - sparse_categorical_crossentropy: 1.9208 - val_loss: 2.3736 - val_acc: 0.6020 - val_sparse_categorical_crossentropy: 2.3736\n",
      "\n",
      "Epoch 00007: val_loss improved from 2.40299 to 2.37356, saving model to ./deeplabv3.model\n",
      "Epoch 8/200\n",
      "4660/4660 [==============================] - 157s 34ms/step - loss: 1.8230 - acc: 0.5153 - sparse_categorical_crossentropy: 1.8230 - val_loss: 2.8023 - val_acc: 0.8220 - val_sparse_categorical_crossentropy: 2.8023\n",
      "\n",
      "Epoch 00008: val_loss did not improve from 2.37356\n",
      "Epoch 9/200\n",
      "4660/4660 [==============================] - 157s 34ms/step - loss: 1.8754 - acc: 0.6142 - sparse_categorical_crossentropy: 1.8754 - val_loss: 2.8682 - val_acc: 0.8220 - val_sparse_categorical_crossentropy: 2.8682\n",
      "\n",
      "Epoch 00009: val_loss did not improve from 2.37356\n",
      "Epoch 10/200\n",
      "4660/4660 [==============================] - 157s 34ms/step - loss: 1.6901 - acc: 0.8209 - sparse_categorical_crossentropy: 1.6901 - val_loss: 2.8682 - val_acc: 0.8220 - val_sparse_categorical_crossentropy: 2.8682\n",
      "\n",
      "Epoch 00010: val_loss did not improve from 2.37356\n",
      "Epoch 11/200\n",
      "4660/4660 [==============================] - 157s 34ms/step - loss: 1.5121 - acc: 0.8243 - sparse_categorical_crossentropy: 1.5121 - val_loss: 2.6391 - val_acc: 0.8220 - val_sparse_categorical_crossentropy: 2.6391\n",
      "\n",
      "Epoch 00011: val_loss did not improve from 2.37356\n",
      "Epoch 12/200\n",
      "4660/4660 [==============================] - 158s 34ms/step - loss: 1.4557 - acc: 0.8112 - sparse_categorical_crossentropy: 1.4557 - val_loss: 3.1613 - val_acc: 0.8220 - val_sparse_categorical_crossentropy: 3.1613\n",
      "\n",
      "Epoch 00012: val_loss did not improve from 2.37356\n",
      "Epoch 13/200\n",
      "4660/4660 [==============================] - 157s 34ms/step - loss: 1.3658 - acc: 0.8059 - sparse_categorical_crossentropy: 1.3658 - val_loss: 2.9780 - val_acc: 0.8212 - val_sparse_categorical_crossentropy: 2.9780\n",
      "\n",
      "Epoch 00013: val_loss did not improve from 2.37356\n",
      "Epoch 14/200\n",
      "4660/4660 [==============================] - 157s 34ms/step - loss: 1.3342 - acc: 0.8064 - sparse_categorical_crossentropy: 1.3342 - val_loss: 2.8942 - val_acc: 0.6241 - val_sparse_categorical_crossentropy: 2.8942\n",
      "\n",
      "Epoch 00014: val_loss did not improve from 2.37356\n",
      "Epoch 15/200\n",
      "4660/4660 [==============================] - 157s 34ms/step - loss: 1.3259 - acc: 0.8057 - sparse_categorical_crossentropy: 1.3259 - val_loss: 2.8218 - val_acc: 0.8220 - val_sparse_categorical_crossentropy: 2.8218\n",
      "\n",
      "Epoch 00015: val_loss did not improve from 2.37356\n",
      "Epoch 16/200\n",
      "4660/4660 [==============================] - 157s 34ms/step - loss: 1.2320 - acc: 0.8047 - sparse_categorical_crossentropy: 1.2320 - val_loss: 2.8682 - val_acc: 0.8220 - val_sparse_categorical_crossentropy: 2.8682\n",
      "\n",
      "Epoch 00016: val_loss did not improve from 2.37356\n",
      "Epoch 17/200\n",
      "4660/4660 [==============================] - 158s 34ms/step - loss: 1.1815 - acc: 0.8094 - sparse_categorical_crossentropy: 1.1815 - val_loss: 2.7435 - val_acc: 0.8220 - val_sparse_categorical_crossentropy: 2.7435\n",
      "\n",
      "Epoch 00017: val_loss did not improve from 2.37356\n",
      "Epoch 18/200\n",
      "4660/4660 [==============================] - 157s 34ms/step - loss: 1.1784 - acc: 0.8154 - sparse_categorical_crossentropy: 1.1784 - val_loss: 2.3733 - val_acc: 0.8220 - val_sparse_categorical_crossentropy: 2.3733\n",
      "\n",
      "Epoch 00018: val_loss improved from 2.37356 to 2.37331, saving model to ./deeplabv3.model\n",
      "Epoch 19/200\n",
      "4660/4660 [==============================] - 158s 34ms/step - loss: 1.1687 - acc: 0.8209 - sparse_categorical_crossentropy: 1.1687 - val_loss: 2.3535 - val_acc: 0.8220 - val_sparse_categorical_crossentropy: 2.3535\n",
      "\n",
      "Epoch 00019: val_loss improved from 2.37331 to 2.35353, saving model to ./deeplabv3.model\n",
      "Epoch 20/200\n",
      "4660/4660 [==============================] - 153s 33ms/step - loss: 1.1303 - acc: 0.8165 - sparse_categorical_crossentropy: 1.1303 - val_loss: 2.7390 - val_acc: 0.8220 - val_sparse_categorical_crossentropy: 2.7390\n",
      "\n",
      "Epoch 00020: val_loss did not improve from 2.35353\n",
      "Epoch 21/200\n",
      "4660/4660 [==============================] - 157s 34ms/step - loss: 1.0778 - acc: 0.8232 - sparse_categorical_crossentropy: 1.0778 - val_loss: 2.6677 - val_acc: 0.8220 - val_sparse_categorical_crossentropy: 2.6677\n",
      "\n",
      "Epoch 00021: val_loss did not improve from 2.35353\n",
      "Epoch 22/200\n",
      "4660/4660 [==============================] - 157s 34ms/step - loss: 1.0579 - acc: 0.8239 - sparse_categorical_crossentropy: 1.0579 - val_loss: 2.6066 - val_acc: 0.8220 - val_sparse_categorical_crossentropy: 2.6066\n",
      "\n",
      "Epoch 00022: val_loss did not improve from 2.35353\n",
      "Epoch 23/200\n",
      "4660/4660 [==============================] - 157s 34ms/step - loss: 1.0468 - acc: 0.8239 - sparse_categorical_crossentropy: 1.0468 - val_loss: 2.7206 - val_acc: 0.8220 - val_sparse_categorical_crossentropy: 2.7206\n",
      "\n",
      "Epoch 00023: val_loss did not improve from 2.35353\n",
      "Epoch 24/200\n",
      "4660/4660 [==============================] - 157s 34ms/step - loss: 1.0516 - acc: 0.8065 - sparse_categorical_crossentropy: 1.0516 - val_loss: 2.8283 - val_acc: 0.8220 - val_sparse_categorical_crossentropy: 2.8283\n",
      "\n",
      "Epoch 00024: val_loss did not improve from 2.35353\n",
      "Epoch 25/200\n",
      "4660/4660 [==============================] - 157s 34ms/step - loss: 1.0343 - acc: 0.8207 - sparse_categorical_crossentropy: 1.0343 - val_loss: 2.8682 - val_acc: 0.8220 - val_sparse_categorical_crossentropy: 2.8682\n",
      "\n",
      "Epoch 00025: val_loss did not improve from 2.35353\n",
      "Epoch 26/200\n",
      "4660/4660 [==============================] - 157s 34ms/step - loss: 1.0535 - acc: 0.8117 - sparse_categorical_crossentropy: 1.0535 - val_loss: 2.8682 - val_acc: 0.8220 - val_sparse_categorical_crossentropy: 2.8682\n",
      "\n",
      "Epoch 00026: val_loss did not improve from 2.35353\n",
      "Epoch 27/200\n",
      "4660/4660 [==============================] - 157s 34ms/step - loss: 1.0813 - acc: 0.7922 - sparse_categorical_crossentropy: 1.0813 - val_loss: 2.8682 - val_acc: 0.8220 - val_sparse_categorical_crossentropy: 2.8682\n",
      "\n",
      "Epoch 00027: val_loss did not improve from 2.35353\n",
      "Epoch 28/200\n",
      "4660/4660 [==============================] - 157s 34ms/step - loss: 1.0384 - acc: 0.8002 - sparse_categorical_crossentropy: 1.0384 - val_loss: 2.8682 - val_acc: 0.8220 - val_sparse_categorical_crossentropy: 2.8682\n",
      "\n",
      "Epoch 00028: val_loss did not improve from 2.35353\n",
      "Epoch 29/200\n"
     ]
    },
    {
     "name": "stdout",
     "output_type": "stream",
     "text": [
      "4660/4660 [==============================] - 157s 34ms/step - loss: 1.0708 - acc: 0.7953 - sparse_categorical_crossentropy: 1.0708 - val_loss: 2.8678 - val_acc: 0.8220 - val_sparse_categorical_crossentropy: 2.8678\n",
      "\n",
      "Epoch 00029: val_loss did not improve from 2.35353\n",
      "Epoch 30/200\n",
      "4660/4660 [==============================] - 157s 34ms/step - loss: 1.0380 - acc: 0.8027 - sparse_categorical_crossentropy: 1.0380 - val_loss: 2.8760 - val_acc: 0.8219 - val_sparse_categorical_crossentropy: 2.8760\n",
      "\n",
      "Epoch 00030: val_loss did not improve from 2.35353\n",
      "Epoch 31/200\n",
      "4660/4660 [==============================] - 157s 34ms/step - loss: 1.0056 - acc: 0.8075 - sparse_categorical_crossentropy: 1.0056 - val_loss: 2.8913 - val_acc: 0.8220 - val_sparse_categorical_crossentropy: 2.8913\n",
      "\n",
      "Epoch 00031: val_loss did not improve from 2.35353\n",
      "Epoch 32/200\n",
      "4660/4660 [==============================] - 157s 34ms/step - loss: 1.0071 - acc: 0.8086 - sparse_categorical_crossentropy: 1.0071 - val_loss: 2.8684 - val_acc: 0.8220 - val_sparse_categorical_crossentropy: 2.8684\n",
      "\n",
      "Epoch 00032: val_loss did not improve from 2.35353\n",
      "Epoch 33/200\n",
      "4660/4660 [==============================] - 157s 34ms/step - loss: 0.9978 - acc: 0.8114 - sparse_categorical_crossentropy: 0.9978 - val_loss: 2.8346 - val_acc: 0.8220 - val_sparse_categorical_crossentropy: 2.8346\n",
      "\n",
      "Epoch 00033: val_loss did not improve from 2.35353\n",
      "Epoch 34/200\n",
      "4660/4660 [==============================] - 157s 34ms/step - loss: 0.9827 - acc: 0.8130 - sparse_categorical_crossentropy: 0.9827 - val_loss: 2.9862 - val_acc: 0.8220 - val_sparse_categorical_crossentropy: 2.9862\n",
      "\n",
      "Epoch 00034: val_loss did not improve from 2.35353\n",
      "Epoch 35/200\n",
      "4660/4660 [==============================] - 157s 34ms/step - loss: 0.9809 - acc: 0.8107 - sparse_categorical_crossentropy: 0.9809 - val_loss: 2.7092 - val_acc: 0.7318 - val_sparse_categorical_crossentropy: 2.7092\n",
      "\n",
      "Epoch 00035: val_loss did not improve from 2.35353\n",
      "Epoch 36/200\n",
      "4660/4660 [==============================] - 157s 34ms/step - loss: 0.9580 - acc: 0.8176 - sparse_categorical_crossentropy: 0.9580 - val_loss: 2.5480 - val_acc: 0.6594 - val_sparse_categorical_crossentropy: 2.5480\n",
      "\n",
      "Epoch 00036: val_loss did not improve from 2.35353\n",
      "Epoch 37/200\n",
      "4660/4660 [==============================] - 157s 34ms/step - loss: 0.9507 - acc: 0.8182 - sparse_categorical_crossentropy: 0.9507 - val_loss: 2.4355 - val_acc: 0.7039 - val_sparse_categorical_crossentropy: 2.4355\n",
      "\n",
      "Epoch 00037: val_loss did not improve from 2.35353\n",
      "Epoch 38/200\n",
      "4660/4660 [==============================] - 157s 34ms/step - loss: 0.9470 - acc: 0.8191 - sparse_categorical_crossentropy: 0.9470 - val_loss: 2.4404 - val_acc: 0.6194 - val_sparse_categorical_crossentropy: 2.4404\n",
      "\n",
      "Epoch 00038: val_loss did not improve from 2.35353\n",
      "Epoch 39/200\n",
      "4660/4660 [==============================] - 157s 34ms/step - loss: 0.9340 - acc: 0.8221 - sparse_categorical_crossentropy: 0.9340 - val_loss: 2.3163 - val_acc: 0.8220 - val_sparse_categorical_crossentropy: 2.3163\n",
      "\n",
      "Epoch 00039: val_loss improved from 2.35353 to 2.31634, saving model to ./deeplabv3.model\n",
      "Epoch 40/200\n",
      "4660/4660 [==============================] - 157s 34ms/step - loss: 0.9306 - acc: 0.8239 - sparse_categorical_crossentropy: 0.9306 - val_loss: 2.3893 - val_acc: 0.8220 - val_sparse_categorical_crossentropy: 2.3893\n",
      "\n",
      "Epoch 00040: val_loss did not improve from 2.31634\n",
      "Epoch 41/200\n",
      "4660/4660 [==============================] - 157s 34ms/step - loss: 0.9250 - acc: 0.8245 - sparse_categorical_crossentropy: 0.9250 - val_loss: 2.2833 - val_acc: 0.8220 - val_sparse_categorical_crossentropy: 2.2833\n",
      "\n",
      "Epoch 00041: val_loss improved from 2.31634 to 2.28332, saving model to ./deeplabv3.model\n",
      "Epoch 42/200\n",
      "4660/4660 [==============================] - 157s 34ms/step - loss: 0.9313 - acc: 0.8245 - sparse_categorical_crossentropy: 0.9313 - val_loss: 1.7298 - val_acc: 0.8220 - val_sparse_categorical_crossentropy: 1.7298\n",
      "\n",
      "Epoch 00042: val_loss improved from 2.28332 to 1.72981, saving model to ./deeplabv3.model\n",
      "Epoch 43/200\n",
      "4660/4660 [==============================] - 157s 34ms/step - loss: 0.9157 - acc: 0.8246 - sparse_categorical_crossentropy: 0.9157 - val_loss: 2.1541 - val_acc: 0.8220 - val_sparse_categorical_crossentropy: 2.1541\n",
      "\n",
      "Epoch 00043: val_loss did not improve from 1.72981\n",
      "Epoch 44/200\n",
      "4660/4660 [==============================] - 157s 34ms/step - loss: 0.9154 - acc: 0.8246 - sparse_categorical_crossentropy: 0.9154 - val_loss: 1.3771 - val_acc: 0.8220 - val_sparse_categorical_crossentropy: 1.3771\n",
      "\n",
      "Epoch 00044: val_loss improved from 1.72981 to 1.37712, saving model to ./deeplabv3.model\n",
      "Epoch 45/200\n",
      "4660/4660 [==============================] - 157s 34ms/step - loss: 0.9061 - acc: 0.8246 - sparse_categorical_crossentropy: 0.9061 - val_loss: 1.8100 - val_acc: 0.8220 - val_sparse_categorical_crossentropy: 1.8100\n",
      "\n",
      "Epoch 00045: val_loss did not improve from 1.37712\n",
      "Epoch 46/200\n",
      "4660/4660 [==============================] - 157s 34ms/step - loss: 0.8997 - acc: 0.8246 - sparse_categorical_crossentropy: 0.8997 - val_loss: 1.7533 - val_acc: 0.8220 - val_sparse_categorical_crossentropy: 1.7533\n",
      "\n",
      "Epoch 00046: val_loss did not improve from 1.37712\n",
      "Epoch 47/200\n",
      "4660/4660 [==============================] - 158s 34ms/step - loss: 0.8969 - acc: 0.8246 - sparse_categorical_crossentropy: 0.8969 - val_loss: 1.5346 - val_acc: 0.8220 - val_sparse_categorical_crossentropy: 1.5346\n",
      "\n",
      "Epoch 00047: val_loss did not improve from 1.37712\n",
      "Epoch 48/200\n",
      "4660/4660 [==============================] - 157s 34ms/step - loss: 0.8902 - acc: 0.8246 - sparse_categorical_crossentropy: 0.8902 - val_loss: 1.2969 - val_acc: 0.8220 - val_sparse_categorical_crossentropy: 1.2969\n",
      "\n",
      "Epoch 00048: val_loss improved from 1.37712 to 1.29694, saving model to ./deeplabv3.model\n",
      "Epoch 49/200\n",
      "4660/4660 [==============================] - 157s 34ms/step - loss: 0.8895 - acc: 0.8246 - sparse_categorical_crossentropy: 0.8895 - val_loss: 1.2893 - val_acc: 0.8220 - val_sparse_categorical_crossentropy: 1.2893\n",
      "\n",
      "Epoch 00049: val_loss improved from 1.29694 to 1.28932, saving model to ./deeplabv3.model\n",
      "Epoch 50/200\n",
      "4660/4660 [==============================] - 157s 34ms/step - loss: 0.8847 - acc: 0.8246 - sparse_categorical_crossentropy: 0.8847 - val_loss: 1.4602 - val_acc: 0.8220 - val_sparse_categorical_crossentropy: 1.4602\n",
      "\n",
      "Epoch 00050: val_loss did not improve from 1.28932\n",
      "Epoch 51/200\n",
      "4660/4660 [==============================] - 157s 34ms/step - loss: 0.8861 - acc: 0.8246 - sparse_categorical_crossentropy: 0.8861 - val_loss: 1.3892 - val_acc: 0.8220 - val_sparse_categorical_crossentropy: 1.3892\n",
      "\n",
      "Epoch 00051: val_loss did not improve from 1.28932\n",
      "Epoch 52/200\n",
      "4660/4660 [==============================] - 157s 34ms/step - loss: 0.8928 - acc: 0.8246 - sparse_categorical_crossentropy: 0.8928 - val_loss: 1.5003 - val_acc: 0.8220 - val_sparse_categorical_crossentropy: 1.5003\n",
      "\n",
      "Epoch 00052: val_loss did not improve from 1.28932\n",
      "Epoch 53/200\n",
      "4660/4660 [==============================] - 157s 34ms/step - loss: 0.8827 - acc: 0.8246 - sparse_categorical_crossentropy: 0.8827 - val_loss: 1.5738 - val_acc: 0.8220 - val_sparse_categorical_crossentropy: 1.5738\n",
      "\n",
      "Epoch 00053: val_loss did not improve from 1.28932\n",
      "Epoch 54/200\n",
      "4660/4660 [==============================] - 157s 34ms/step - loss: 0.8770 - acc: 0.8246 - sparse_categorical_crossentropy: 0.8770 - val_loss: 1.5746 - val_acc: 0.8220 - val_sparse_categorical_crossentropy: 1.5746\n",
      "\n",
      "Epoch 00054: val_loss did not improve from 1.28932\n",
      "Epoch 55/200\n",
      "4660/4660 [==============================] - 157s 34ms/step - loss: 0.8755 - acc: 0.8246 - sparse_categorical_crossentropy: 0.8755 - val_loss: 1.4744 - val_acc: 0.8220 - val_sparse_categorical_crossentropy: 1.4744\n",
      "\n",
      "Epoch 00055: val_loss did not improve from 1.28932\n",
      "Epoch 56/200\n",
      "4660/4660 [==============================] - 157s 34ms/step - loss: 0.8708 - acc: 0.8246 - sparse_categorical_crossentropy: 0.8708 - val_loss: 1.7032 - val_acc: 0.8220 - val_sparse_categorical_crossentropy: 1.7032\n",
      "\n",
      "Epoch 00056: val_loss did not improve from 1.28932\n",
      "Epoch 57/200\n",
      "4660/4660 [==============================] - 157s 34ms/step - loss: 0.8629 - acc: 0.8246 - sparse_categorical_crossentropy: 0.8629 - val_loss: 1.3985 - val_acc: 0.8220 - val_sparse_categorical_crossentropy: 1.3985\n"
     ]
    },
    {
     "name": "stdout",
     "output_type": "stream",
     "text": [
      "\n",
      "Epoch 00057: val_loss did not improve from 1.28932\n",
      "Epoch 58/200\n",
      "4660/4660 [==============================] - 157s 34ms/step - loss: 0.8632 - acc: 0.8246 - sparse_categorical_crossentropy: 0.8632 - val_loss: 1.5606 - val_acc: 0.8220 - val_sparse_categorical_crossentropy: 1.5606\n",
      "\n",
      "Epoch 00058: val_loss did not improve from 1.28932\n",
      "Epoch 59/200\n",
      "4660/4660 [==============================] - 157s 34ms/step - loss: 0.8632 - acc: 0.8246 - sparse_categorical_crossentropy: 0.8632 - val_loss: 1.3969 - val_acc: 0.8220 - val_sparse_categorical_crossentropy: 1.3969\n",
      "\n",
      "Epoch 00059: val_loss did not improve from 1.28932\n",
      "Epoch 60/200\n",
      "4660/4660 [==============================] - 157s 34ms/step - loss: 0.8662 - acc: 0.8246 - sparse_categorical_crossentropy: 0.8662 - val_loss: 1.4791 - val_acc: 0.8220 - val_sparse_categorical_crossentropy: 1.4791\n",
      "\n",
      "Epoch 00060: val_loss did not improve from 1.28932\n",
      "Epoch 61/200\n",
      "4660/4660 [==============================] - 157s 34ms/step - loss: 0.8605 - acc: 0.8246 - sparse_categorical_crossentropy: 0.8605 - val_loss: 1.6592 - val_acc: 0.8220 - val_sparse_categorical_crossentropy: 1.6592\n",
      "\n",
      "Epoch 00061: val_loss did not improve from 1.28932\n",
      "Epoch 62/200\n",
      "4660/4660 [==============================] - 157s 34ms/step - loss: 0.8676 - acc: 0.8246 - sparse_categorical_crossentropy: 0.8676 - val_loss: 2.4972 - val_acc: 0.8220 - val_sparse_categorical_crossentropy: 2.4972\n",
      "\n",
      "Epoch 00062: val_loss did not improve from 1.28932\n",
      "Epoch 63/200\n",
      "4660/4660 [==============================] - 157s 34ms/step - loss: 0.9142 - acc: 0.8246 - sparse_categorical_crossentropy: 0.9142 - val_loss: 2.8685 - val_acc: 0.8220 - val_sparse_categorical_crossentropy: 2.8685\n",
      "\n",
      "Epoch 00063: val_loss did not improve from 1.28932\n",
      "Epoch 64/200\n",
      "4660/4660 [==============================] - 153s 33ms/step - loss: 0.8740 - acc: 0.8246 - sparse_categorical_crossentropy: 0.8740 - val_loss: 2.8608 - val_acc: 0.8220 - val_sparse_categorical_crossentropy: 2.8608\n",
      "\n",
      "Epoch 00064: val_loss did not improve from 1.28932\n",
      "Epoch 65/200\n",
      "4660/4660 [==============================] - 150s 32ms/step - loss: 0.8675 - acc: 0.8246 - sparse_categorical_crossentropy: 0.8675 - val_loss: 2.7505 - val_acc: 0.8220 - val_sparse_categorical_crossentropy: 2.7505\n",
      "\n",
      "Epoch 00065: val_loss did not improve from 1.28932\n",
      "Epoch 66/200\n",
      "1248/4660 [=======>......................] - ETA: 1:54 - loss: 0.8526 - acc: 0.8268 - sparse_categorical_crossentropy: 0.8526"
     ]
    },
    {
     "ename": "KeyboardInterrupt",
     "evalue": "",
     "output_type": "error",
     "traceback": [
      "\u001b[0;31m---------------------------------------------------------------------------\u001b[0m",
      "\u001b[0;31mKeyboardInterrupt\u001b[0m                         Traceback (most recent call last)",
      "\u001b[0;32m<ipython-input-35-64ec064c20e8>\u001b[0m in \u001b[0;36m<module>\u001b[0;34m()\u001b[0m\n\u001b[1;32m     18\u001b[0m                         \u001b[0mepochs\u001b[0m\u001b[0;34m=\u001b[0m\u001b[0mepochs\u001b[0m\u001b[0;34m,\u001b[0m\u001b[0;34m\u001b[0m\u001b[0m\n\u001b[1;32m     19\u001b[0m                         \u001b[0mbatch_size\u001b[0m\u001b[0;34m=\u001b[0m\u001b[0mbatch_size\u001b[0m\u001b[0;34m,\u001b[0m\u001b[0;34m\u001b[0m\u001b[0m\n\u001b[0;32m---> 20\u001b[0;31m                         callbacks=[early_stopping, model_checkpoint],shuffle=True)\n\u001b[0m",
      "\u001b[0;32m~/anaconda3/envs/py36/lib/python3.6/site-packages/keras/engine/training.py\u001b[0m in \u001b[0;36mfit\u001b[0;34m(self, x, y, batch_size, epochs, verbose, callbacks, validation_split, validation_data, shuffle, class_weight, sample_weight, initial_epoch, steps_per_epoch, validation_steps, **kwargs)\u001b[0m\n\u001b[1;32m   1035\u001b[0m                                         \u001b[0minitial_epoch\u001b[0m\u001b[0;34m=\u001b[0m\u001b[0minitial_epoch\u001b[0m\u001b[0;34m,\u001b[0m\u001b[0;34m\u001b[0m\u001b[0m\n\u001b[1;32m   1036\u001b[0m                                         \u001b[0msteps_per_epoch\u001b[0m\u001b[0;34m=\u001b[0m\u001b[0msteps_per_epoch\u001b[0m\u001b[0;34m,\u001b[0m\u001b[0;34m\u001b[0m\u001b[0m\n\u001b[0;32m-> 1037\u001b[0;31m                                         validation_steps=validation_steps)\n\u001b[0m\u001b[1;32m   1038\u001b[0m \u001b[0;34m\u001b[0m\u001b[0m\n\u001b[1;32m   1039\u001b[0m     def evaluate(self, x=None, y=None,\n",
      "\u001b[0;32m~/anaconda3/envs/py36/lib/python3.6/site-packages/keras/engine/training_arrays.py\u001b[0m in \u001b[0;36mfit_loop\u001b[0;34m(model, f, ins, out_labels, batch_size, epochs, verbose, callbacks, val_f, val_ins, shuffle, callback_metrics, initial_epoch, steps_per_epoch, validation_steps)\u001b[0m\n\u001b[1;32m    197\u001b[0m                     \u001b[0mins_batch\u001b[0m\u001b[0;34m[\u001b[0m\u001b[0mi\u001b[0m\u001b[0;34m]\u001b[0m \u001b[0;34m=\u001b[0m \u001b[0mins_batch\u001b[0m\u001b[0;34m[\u001b[0m\u001b[0mi\u001b[0m\u001b[0;34m]\u001b[0m\u001b[0;34m.\u001b[0m\u001b[0mtoarray\u001b[0m\u001b[0;34m(\u001b[0m\u001b[0;34m)\u001b[0m\u001b[0;34m\u001b[0m\u001b[0m\n\u001b[1;32m    198\u001b[0m \u001b[0;34m\u001b[0m\u001b[0m\n\u001b[0;32m--> 199\u001b[0;31m                 \u001b[0mouts\u001b[0m \u001b[0;34m=\u001b[0m \u001b[0mf\u001b[0m\u001b[0;34m(\u001b[0m\u001b[0mins_batch\u001b[0m\u001b[0;34m)\u001b[0m\u001b[0;34m\u001b[0m\u001b[0m\n\u001b[0m\u001b[1;32m    200\u001b[0m                 \u001b[0mouts\u001b[0m \u001b[0;34m=\u001b[0m \u001b[0mto_list\u001b[0m\u001b[0;34m(\u001b[0m\u001b[0mouts\u001b[0m\u001b[0;34m)\u001b[0m\u001b[0;34m\u001b[0m\u001b[0m\n\u001b[1;32m    201\u001b[0m                 \u001b[0;32mfor\u001b[0m \u001b[0ml\u001b[0m\u001b[0;34m,\u001b[0m \u001b[0mo\u001b[0m \u001b[0;32min\u001b[0m \u001b[0mzip\u001b[0m\u001b[0;34m(\u001b[0m\u001b[0mout_labels\u001b[0m\u001b[0;34m,\u001b[0m \u001b[0mouts\u001b[0m\u001b[0;34m)\u001b[0m\u001b[0;34m:\u001b[0m\u001b[0;34m\u001b[0m\u001b[0m\n",
      "\u001b[0;32m~/anaconda3/envs/py36/lib/python3.6/site-packages/keras/backend/tensorflow_backend.py\u001b[0m in \u001b[0;36m__call__\u001b[0;34m(self, inputs)\u001b[0m\n\u001b[1;32m   2664\u001b[0m                 \u001b[0;32mreturn\u001b[0m \u001b[0mself\u001b[0m\u001b[0;34m.\u001b[0m\u001b[0m_legacy_call\u001b[0m\u001b[0;34m(\u001b[0m\u001b[0minputs\u001b[0m\u001b[0;34m)\u001b[0m\u001b[0;34m\u001b[0m\u001b[0m\n\u001b[1;32m   2665\u001b[0m \u001b[0;34m\u001b[0m\u001b[0m\n\u001b[0;32m-> 2666\u001b[0;31m             \u001b[0;32mreturn\u001b[0m \u001b[0mself\u001b[0m\u001b[0;34m.\u001b[0m\u001b[0m_call\u001b[0m\u001b[0;34m(\u001b[0m\u001b[0minputs\u001b[0m\u001b[0;34m)\u001b[0m\u001b[0;34m\u001b[0m\u001b[0m\n\u001b[0m\u001b[1;32m   2667\u001b[0m         \u001b[0;32melse\u001b[0m\u001b[0;34m:\u001b[0m\u001b[0;34m\u001b[0m\u001b[0m\n\u001b[1;32m   2668\u001b[0m             \u001b[0;32mif\u001b[0m \u001b[0mpy_any\u001b[0m\u001b[0;34m(\u001b[0m\u001b[0mis_tensor\u001b[0m\u001b[0;34m(\u001b[0m\u001b[0mx\u001b[0m\u001b[0;34m)\u001b[0m \u001b[0;32mfor\u001b[0m \u001b[0mx\u001b[0m \u001b[0;32min\u001b[0m \u001b[0minputs\u001b[0m\u001b[0;34m)\u001b[0m\u001b[0;34m:\u001b[0m\u001b[0;34m\u001b[0m\u001b[0m\n",
      "\u001b[0;32m~/anaconda3/envs/py36/lib/python3.6/site-packages/keras/backend/tensorflow_backend.py\u001b[0m in \u001b[0;36m_call\u001b[0;34m(self, inputs)\u001b[0m\n\u001b[1;32m   2634\u001b[0m                                 \u001b[0msymbol_vals\u001b[0m\u001b[0;34m,\u001b[0m\u001b[0;34m\u001b[0m\u001b[0m\n\u001b[1;32m   2635\u001b[0m                                 session)\n\u001b[0;32m-> 2636\u001b[0;31m         \u001b[0mfetched\u001b[0m \u001b[0;34m=\u001b[0m \u001b[0mself\u001b[0m\u001b[0;34m.\u001b[0m\u001b[0m_callable_fn\u001b[0m\u001b[0;34m(\u001b[0m\u001b[0;34m*\u001b[0m\u001b[0marray_vals\u001b[0m\u001b[0;34m)\u001b[0m\u001b[0;34m\u001b[0m\u001b[0m\n\u001b[0m\u001b[1;32m   2637\u001b[0m         \u001b[0;32mreturn\u001b[0m \u001b[0mfetched\u001b[0m\u001b[0;34m[\u001b[0m\u001b[0;34m:\u001b[0m\u001b[0mlen\u001b[0m\u001b[0;34m(\u001b[0m\u001b[0mself\u001b[0m\u001b[0;34m.\u001b[0m\u001b[0moutputs\u001b[0m\u001b[0;34m)\u001b[0m\u001b[0;34m]\u001b[0m\u001b[0;34m\u001b[0m\u001b[0m\n\u001b[1;32m   2638\u001b[0m \u001b[0;34m\u001b[0m\u001b[0m\n",
      "\u001b[0;32m~/anaconda3/envs/py36/lib/python3.6/site-packages/tensorflow/python/client/session.py\u001b[0m in \u001b[0;36m__call__\u001b[0;34m(self, *args)\u001b[0m\n\u001b[1;32m   1449\u001b[0m         \u001b[0;32mif\u001b[0m \u001b[0mself\u001b[0m\u001b[0;34m.\u001b[0m\u001b[0m_session\u001b[0m\u001b[0;34m.\u001b[0m\u001b[0m_created_with_new_api\u001b[0m\u001b[0;34m:\u001b[0m\u001b[0;34m\u001b[0m\u001b[0m\n\u001b[1;32m   1450\u001b[0m           return tf_session.TF_SessionRunCallable(\n\u001b[0;32m-> 1451\u001b[0;31m               self._session._session, self._handle, args, status, None)\n\u001b[0m\u001b[1;32m   1452\u001b[0m         \u001b[0;32melse\u001b[0m\u001b[0;34m:\u001b[0m\u001b[0;34m\u001b[0m\u001b[0m\n\u001b[1;32m   1453\u001b[0m           return tf_session.TF_DeprecatedSessionRunCallable(\n",
      "\u001b[0;31mKeyboardInterrupt\u001b[0m: "
     ]
    }
   ],
   "source": [
    "early_stopping = EarlyStopping(patience=50, verbose=1)\n",
    "model_checkpoint = ModelCheckpoint(\"./deeplabv3.model\", save_best_only=True, verbose=1)\n",
    "reduce_lr = ReduceLROnPlateau(factor=0.5, patience=2, min_lr=0.00001, verbose=1)\n",
    "\n",
    "epochs = 200\n",
    "batch_size = 32\n",
    "\"\"\"\n",
    "with tf.device (\"/gpu:0\"):\n",
    "    history = model.fit(train_images[0:5400,:,:,:], one_hot_masks[0:2700,:,:,:],\n",
    "                        validation_data=[train_images[2701:2913,:,:,:], one_hot_masks[2701:2913,:,:,:]], \n",
    "                        epochs=epochs,\n",
    "                        batch_size=batch_size,\n",
    "                        callbacks=[early_stopping, model_checkpoint, reduce_lr],shuffle=True)\n",
    "\"\"\"\n",
    "with tf.device (\"/gpu:0\"):\n",
    "    history = model.fit(x_train, y_train,\n",
    "                        validation_data=[x_valid, y_valid], \n",
    "                        epochs=epochs,\n",
    "                        batch_size=batch_size,\n",
    "                        callbacks=[early_stopping, model_checkpoint],shuffle=True)"
   ]
  },
  {
   "cell_type": "code",
   "execution_count": null,
   "metadata": {
    "_uuid": "42e9ef3c4e0a2bb2539e5e51740ba6bfc092d37c"
   },
   "outputs": [],
   "source": [
    "fig, (ax_loss, ax_acc) = plt.subplots(1, 2, figsize=(15,5))\n",
    "ax_loss.plot(history.epoch, history.history[\"loss\"], label=\"Train loss\")\n",
    "ax_loss.plot(history.epoch, history.history[\"val_loss\"], label=\"Validation loss\")\n",
    "ax_acc.plot(history.epoch, history.history[\"acc\"], label=\"Train accuracy\")\n",
    "ax_acc.plot(history.epoch, history.history[\"val_acc\"], label=\"Validation accuracy\")"
   ]
  },
  {
   "cell_type": "code",
   "execution_count": null,
   "metadata": {
    "_uuid": "c824f6bca47f051500966c433ce7fb5a9528f6d7"
   },
   "outputs": [],
   "source": [
    "model.load_weights(\"./deeplabv3.model\")"
   ]
  },
  {
   "cell_type": "markdown",
   "metadata": {
    "_uuid": "0f168318eadb324daa8c020f0e3e0a24d82a464f"
   },
   "source": [
    "# Predict the validation set to do a sanity check\n",
    "Again plot some sample images including the predictions."
   ]
  },
  {
   "cell_type": "code",
   "execution_count": null,
   "metadata": {
    "_uuid": "16cbfe2fee11a8b13b96ce78161ce19b5e5a0c46"
   },
   "outputs": [],
   "source": [
    "preds_valid = model.predict(np.repeat(x_valid,3,3)).reshape(-1, img_size_target, img_size_target)\n",
    "preds_valid = np.array([downsample(x) for x in preds_valid])\n",
    "y_valid_ori = np.array([train_df.loc[idx].masks for idx in ids_valid])"
   ]
  },
  {
   "cell_type": "code",
   "execution_count": null,
   "metadata": {
    "_uuid": "3b1198b6fb7369c3cfb70e68cd1b78d36aa188bc"
   },
   "outputs": [],
   "source": [
    "max_images = 60\n",
    "grid_width = 15\n",
    "grid_height = int(max_images / grid_width)\n",
    "fig, axs = plt.subplots(grid_height, grid_width, figsize=(grid_width, grid_height))\n",
    "for i, idx in enumerate(ids_valid[:max_images]):\n",
    "    img = train_df.loc[idx].images\n",
    "    mask = train_df.loc[idx].masks\n",
    "    pred = preds_valid[i]\n",
    "    ax = axs[int(i / grid_width), i % grid_width]\n",
    "    ax.imshow(img, cmap=\"Greys\")\n",
    "    ax.imshow(mask, alpha=0.3, cmap=\"Greens\")\n",
    "    ax.imshow(pred, alpha=0.3, cmap=\"OrRd\")\n",
    "    ax.text(1, img_size_ori-1, train_df.loc[idx].z, color=\"black\")\n",
    "    ax.text(img_size_ori - 1, 1, round(train_df.loc[idx].coverage, 2), color=\"black\", ha=\"right\", va=\"top\")\n",
    "    ax.text(1, 1, train_df.loc[idx].coverage_class, color=\"black\", ha=\"left\", va=\"top\")\n",
    "    ax.set_yticklabels([])\n",
    "    ax.set_xticklabels([])\n",
    "plt.suptitle(\"Green: salt, Red: prediction. Top-left: coverage class, top-right: salt coverage, bottom-left: depth\")"
   ]
  },
  {
   "cell_type": "markdown",
   "metadata": {
    "_uuid": "fd973023204ebf921fe1f23748856e6a6f692aa4",
    "collapsed": true
   },
   "source": [
    "# Scoring\n",
    "Score the model and do a threshold optimization by the best IoU."
   ]
  },
  {
   "cell_type": "code",
   "execution_count": null,
   "metadata": {
    "_uuid": "d261beec66b6867ac0d5c94684f12aa08b70d638"
   },
   "outputs": [],
   "source": [
    "# src: https://www.kaggle.com/aglotero/another-iou-metric\n",
    "def iou_metric(y_true_in, y_pred_in, print_table=False):\n",
    "    labels = y_true_in\n",
    "    y_pred = y_pred_in\n",
    "    \n",
    "    true_objects = 2\n",
    "    pred_objects = 2\n",
    "\n",
    "    intersection = np.histogram2d(labels.flatten(), y_pred.flatten(), bins=(true_objects, pred_objects))[0]\n",
    "\n",
    "    # Compute areas (needed for finding the union between all objects)\n",
    "    area_true = np.histogram(labels, bins = true_objects)[0]\n",
    "    area_pred = np.histogram(y_pred, bins = pred_objects)[0]\n",
    "    area_true = np.expand_dims(area_true, -1)\n",
    "    area_pred = np.expand_dims(area_pred, 0)\n",
    "\n",
    "    # Compute union\n",
    "    union = area_true + area_pred - intersection\n",
    "\n",
    "    # Exclude background from the analysis\n",
    "    intersection = intersection[1:,1:]\n",
    "    union = union[1:,1:]\n",
    "    union[union == 0] = 1e-9\n",
    "\n",
    "    # Compute the intersection over union\n",
    "    iou = intersection / union\n",
    "\n",
    "    # Precision helper function\n",
    "    def precision_at(threshold, iou):\n",
    "        matches = iou > threshold\n",
    "        true_positives = np.sum(matches, axis=1) == 1   # Correct objects\n",
    "        false_positives = np.sum(matches, axis=0) == 0  # Missed objects\n",
    "        false_negatives = np.sum(matches, axis=1) == 0  # Extra objects\n",
    "        tp, fp, fn = np.sum(true_positives), np.sum(false_positives), np.sum(false_negatives)\n",
    "        return tp, fp, fn\n",
    "\n",
    "    # Loop over IoU thresholds\n",
    "    prec = []\n",
    "    if print_table:\n",
    "        print(\"Thresh\\tTP\\tFP\\tFN\\tPrec.\")\n",
    "    for t in np.arange(0.5, 1.0, 0.05):\n",
    "        tp, fp, fn = precision_at(t, iou)\n",
    "        if (tp + fp + fn) > 0:\n",
    "            p = tp / (tp + fp + fn)\n",
    "        else:\n",
    "            p = 0\n",
    "        if print_table:\n",
    "            print(\"{:1.3f}\\t{}\\t{}\\t{}\\t{:1.3f}\".format(t, tp, fp, fn, p))\n",
    "        prec.append(p)\n",
    "    \n",
    "    if print_table:\n",
    "        print(\"AP\\t-\\t-\\t-\\t{:1.3f}\".format(np.mean(prec)))\n",
    "    return np.mean(prec)\n",
    "\n",
    "def iou_metric_batch(y_true_in, y_pred_in):\n",
    "    batch_size = y_true_in.shape[0]\n",
    "    metric = []\n",
    "    for batch in range(batch_size):\n",
    "        value = iou_metric(y_true_in[batch], y_pred_in[batch])\n",
    "        metric.append(value)\n",
    "    return np.mean(metric)"
   ]
  },
  {
   "cell_type": "code",
   "execution_count": null,
   "metadata": {
    "_uuid": "85f6d9567cec0ef8976730a6834b6569b6e108a0"
   },
   "outputs": [],
   "source": [
    "thresholds = np.linspace(0, 1, 50)\n",
    "ious = np.array([iou_metric_batch(y_valid_ori, np.int32(preds_valid > threshold)) for threshold in tqdm_notebook(thresholds)])"
   ]
  },
  {
   "cell_type": "code",
   "execution_count": null,
   "metadata": {
    "_uuid": "183d37ad32bc2f1f0d17a9538702c45a826ccefc"
   },
   "outputs": [],
   "source": [
    "threshold_best_index = np.argmax(ious[9:-10]) + 9\n",
    "iou_best = ious[threshold_best_index]\n",
    "threshold_best = thresholds[threshold_best_index]"
   ]
  },
  {
   "cell_type": "code",
   "execution_count": null,
   "metadata": {
    "_uuid": "8ced29761f2d1760245112a30a7abd4783b373dd"
   },
   "outputs": [],
   "source": [
    "plt.plot(thresholds, ious)\n",
    "plt.plot(threshold_best, iou_best, \"xr\", label=\"Best threshold\")\n",
    "plt.xlabel(\"Threshold\")\n",
    "plt.ylabel(\"IoU\")\n",
    "plt.title(\"Threshold vs IoU ({}, {})\".format(threshold_best, iou_best))\n",
    "plt.legend()"
   ]
  },
  {
   "cell_type": "markdown",
   "metadata": {
    "_uuid": "423b3268c580dc1eae84f54deeeb0f691eff6028"
   },
   "source": [
    "# Another sanity check with adjusted threshold\n",
    "Again some sample images with the adjusted threshold."
   ]
  },
  {
   "cell_type": "code",
   "execution_count": null,
   "metadata": {
    "_uuid": "40c263765ac6d53a8c0c1361ff1e6f061eecf825"
   },
   "outputs": [],
   "source": [
    "max_images = 60\n",
    "grid_width = 15\n",
    "grid_height = int(max_images / grid_width)\n",
    "fig, axs = plt.subplots(grid_height, grid_width, figsize=(grid_width, grid_height))\n",
    "for i, idx in enumerate(ids_valid[:max_images]):\n",
    "    img = train_df.loc[idx].images\n",
    "    mask = train_df.loc[idx].masks\n",
    "    pred = preds_valid[i]\n",
    "    ax = axs[int(i / grid_width), i % grid_width]\n",
    "    ax.imshow(img, cmap=\"Greys\")\n",
    "    ax.imshow(mask, alpha=0.3, cmap=\"Greens\")\n",
    "    ax.imshow(np.array(np.round(pred > threshold_best), dtype=np.float32), alpha=0.3, cmap=\"OrRd\")\n",
    "    ax.text(1, img_size_ori-1, train_df.loc[idx].z, color=\"black\")\n",
    "    ax.text(img_size_ori - 1, 1, round(train_df.loc[idx].coverage, 2), color=\"black\", ha=\"right\", va=\"top\")\n",
    "    ax.text(1, 1, train_df.loc[idx].coverage_class, color=\"black\", ha=\"left\", va=\"top\")\n",
    "    ax.set_yticklabels([])\n",
    "    ax.set_xticklabels([])\n",
    "plt.suptitle(\"Green: salt, Red: prediction. Top-left: coverage class, top-right: salt coverage, bottom-left: depth\")"
   ]
  },
  {
   "cell_type": "markdown",
   "metadata": {
    "_uuid": "332a614c0ae837c115ec6563f355753ffbb8cd83"
   },
   "source": [
    "# Submission\n",
    "Load, predict and submit the test image predictions."
   ]
  },
  {
   "cell_type": "code",
   "execution_count": null,
   "metadata": {
    "_uuid": "72128add82c6853441671fde67e7e66601a01787"
   },
   "outputs": [],
   "source": [
    "# Source https://www.kaggle.com/bguberfain/unet-with-depth\n",
    "def RLenc(img, order='F', format=True):\n",
    "    \"\"\"\n",
    "    img is binary mask image, shape (r,c)\n",
    "    order is down-then-right, i.e. Fortran\n",
    "    format determines if the order needs to be preformatted (according to submission rules) or not\n",
    "\n",
    "    returns run length as an array or string (if format is True)\n",
    "    \"\"\"\n",
    "    bytes = img.reshape(img.shape[0] * img.shape[1], order=order)\n",
    "    runs = []  ## list of run lengths\n",
    "    r = 0  ## the current run length\n",
    "    pos = 1  ## count starts from 1 per WK\n",
    "    for c in bytes:\n",
    "        if (c == 0):\n",
    "            if r != 0:\n",
    "                runs.append((pos, r))\n",
    "                pos += r\n",
    "                r = 0\n",
    "            pos += 1\n",
    "        else:\n",
    "            r += 1\n",
    "\n",
    "    # if last run is unsaved (i.e. data ends with 1)\n",
    "    if r != 0:\n",
    "        runs.append((pos, r))\n",
    "        pos += r\n",
    "        r = 0\n",
    "\n",
    "    if format:\n",
    "        z = ''\n",
    "\n",
    "        for rr in runs:\n",
    "            z += '{} {} '.format(rr[0], rr[1])\n",
    "        return z[:-1]\n",
    "    else:\n",
    "        return runs"
   ]
  },
  {
   "cell_type": "code",
   "execution_count": null,
   "metadata": {
    "_uuid": "3ecb152b492c7126d12c5ef2c701eec8ea3d86f1"
   },
   "outputs": [],
   "source": [
    "x_test = np.array([upsample(np.array(load_img(ROOT+\"/test/images/{}.png\".format(idx), grayscale=True))) / 255 for idx in tqdm_notebook(test_df.index)]).reshape(-1, img_size_target, img_size_target, 1)"
   ]
  },
  {
   "cell_type": "code",
   "execution_count": null,
   "metadata": {
    "_uuid": "f278d0b87320c117b4ed7c116a991782b82ba5a7"
   },
   "outputs": [],
   "source": [
    "preds_test = model.predict(np.repeat(x_test,3,3))"
   ]
  },
  {
   "cell_type": "code",
   "execution_count": null,
   "metadata": {
    "_uuid": "113f816f9db8b87ca7f6845fe6e61328ab606f41"
   },
   "outputs": [],
   "source": [
    "pred_dict = {idx: RLenc(np.round(downsample(preds_test[i]) > threshold_best)) for i, idx in enumerate(tqdm_notebook(test_df.index.values))}"
   ]
  },
  {
   "cell_type": "code",
   "execution_count": null,
   "metadata": {
    "_uuid": "4243166f91c4bcb4da00208f4f53dd912dbb429f"
   },
   "outputs": [],
   "source": [
    "sub = pd.DataFrame.from_dict(pred_dict,orient='index')\n",
    "sub.index.names = ['id']\n",
    "sub.columns = ['rle_mask']\n",
    "sub.to_csv('submission.csv')"
   ]
  },
  {
   "cell_type": "code",
   "execution_count": null,
   "metadata": {},
   "outputs": [],
   "source": []
  }
 ],
 "metadata": {
  "kernelspec": {
   "display_name": "Python 3",
   "language": "python",
   "name": "python3"
  },
  "language_info": {
   "codemirror_mode": {
    "name": "ipython",
    "version": 3
   },
   "file_extension": ".py",
   "mimetype": "text/x-python",
   "name": "python",
   "nbconvert_exporter": "python",
   "pygments_lexer": "ipython3",
   "version": "3.6.5"
  }
 },
 "nbformat": 4,
 "nbformat_minor": 1
}
